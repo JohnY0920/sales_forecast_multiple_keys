{
  "cells": [
    {
      "cell_type": "markdown",
      "id": "995639b5-3343-426b-8a90-b1c2250994cb",
      "metadata": {
        "id": "995639b5-3343-426b-8a90-b1c2250994cb"
      },
      "source": [
        "# Sales Prediction Case Study"
      ]
    },
    {
      "cell_type": "markdown",
      "source": [
        "## Setups"
      ],
      "metadata": {
        "id": "Kk9TYMfnPkT0"
      },
      "id": "Kk9TYMfnPkT0"
    },
    {
      "cell_type": "markdown",
      "source": [
        "### Git control setup"
      ],
      "metadata": {
        "id": "MaPeT_dQHb9O"
      },
      "id": "MaPeT_dQHb9O"
    },
    {
      "cell_type": "code",
      "source": [
        "%run github_utils.ipynb"
      ],
      "metadata": {
        "id": "p0nXXr9gHbgd"
      },
      "id": "p0nXXr9gHbgd",
      "execution_count": 2,
      "outputs": []
    },
    {
      "cell_type": "code",
      "source": [
        "git_manager = GitHubManager()"
      ],
      "metadata": {
        "colab": {
          "base_uri": "https://localhost:8080/"
        },
        "id": "RIESlVTaH27R",
        "outputId": "b1161a8c-3718-4d8d-e64e-644555c9d470"
      },
      "id": "RIESlVTaH27R",
      "execution_count": 3,
      "outputs": [
        {
          "output_type": "stream",
          "name": "stdout",
          "text": [
            "Could not retrieve all credentials from Colab secrets: Secret GITHUB_USERNAME does not exist.\n",
            "Enter your GitHub username: ··········\n",
            "Enter your GitHub email: ··········\n",
            "Enter your GitHub personal access token: ··········\n",
            "Enter repository name (or press Enter to skip): sales_forecast_multiple_keys\n",
            "Git configured successfully\n"
          ]
        }
      ]
    },
    {
      "cell_type": "code",
      "source": [
        "git_manager.clone_repo(\"sales_forecast_multiple_keys\")"
      ],
      "metadata": {
        "colab": {
          "base_uri": "https://localhost:8080/"
        },
        "id": "oTLujBoFIIGX",
        "outputId": "bd56d7c5-29da-44f6-a593-d58e2d7a1eff"
      },
      "id": "oTLujBoFIIGX",
      "execution_count": 8,
      "outputs": [
        {
          "output_type": "stream",
          "name": "stdout",
          "text": [
            "Cloning repository 'sales_forecast_multiple_keys' to '/content/sales_forecast_multiple_keys'...\n",
            "Repository cloned successfully\n"
          ]
        }
      ]
    },
    {
      "cell_type": "code",
      "source": [
        "git_manager.status()"
      ],
      "metadata": {
        "colab": {
          "base_uri": "https://localhost:8080/",
          "height": 35
        },
        "id": "ixjMdXPBIf-n",
        "outputId": "0817e7d4-514f-4c92-b8b1-5a72b1c8591d"
      },
      "id": "ixjMdXPBIf-n",
      "execution_count": 10,
      "outputs": [
        {
          "output_type": "execute_result",
          "data": {
            "text/plain": [
              "\"On branch main\\nYour branch is up to date with 'origin/main'.\\n\\nnothing to commit, working tree clean\\n\""
            ],
            "application/vnd.google.colaboratory.intrinsic+json": {
              "type": "string"
            }
          },
          "metadata": {},
          "execution_count": 10
        }
      ]
    },
    {
      "cell_type": "markdown",
      "source": [
        "### Importers"
      ],
      "metadata": {
        "id": "4uBqhv_iPo92"
      },
      "id": "4uBqhv_iPo92"
    },
    {
      "cell_type": "code",
      "execution_count": 46,
      "id": "69131721-3fd9-4e2c-8491-7b351219194c",
      "metadata": {
        "id": "69131721-3fd9-4e2c-8491-7b351219194c"
      },
      "outputs": [],
      "source": [
        "import pandas as pd\n",
        "import numpy as np\n",
        "from sklearn.model_selection import TimeSeriesSplit\n",
        "from sklearn.preprocessing import LabelEncoder\n",
        "import lightgbm as lgb\n",
        "from sklearn.metrics import mean_absolute_error\n",
        "import matplotlib.pyplot as plt\n",
        "import seaborn as sns\n",
        "from sklearn.model_selection import RandomizedSearchCV\n",
        "from sklearn.preprocessing import StandardScaler\n",
        "import warnings\n",
        "warnings.filterwarnings('ignore')"
      ]
    },
    {
      "cell_type": "markdown",
      "source": [
        "### UDFs"
      ],
      "metadata": {
        "id": "mYKsUl8UPtO-"
      },
      "id": "mYKsUl8UPtO-"
    },
    {
      "cell_type": "code",
      "source": [
        "def calculate_wmape(y_true, y_pred):\n",
        "    \"\"\"\n",
        "    Calculate Weighted Mean Absolute Percentage Error (WMAPE)\n",
        "    WMAPE = 1 - SUM(Absolute Error)/SUM(Sales)\n",
        "    \"\"\"\n",
        "    # Convert to numpy arrays to ensure proper calculation\n",
        "    y_true = np.array(y_true)\n",
        "    y_pred = np.array(y_pred)\n",
        "\n",
        "    # Check if denominator is zero\n",
        "    if np.sum(y_true) == 0:\n",
        "        print(\"Warning: Sum of actual values is zero. Cannot calculate WMAPE.\")\n",
        "        return np.nan\n",
        "\n",
        "    return 1 - np.sum(np.abs(y_true - y_pred)) / np.sum(y_true)\n",
        "\n",
        "def calculate_bias(y_true, y_pred):\n",
        "    \"\"\"\n",
        "    Calculate prediction bias\n",
        "    Bias = (SUM(Sales)/SUM(Prediction) - 1)\n",
        "    \"\"\"\n",
        "    # Convert to numpy arrays to ensure proper calculation\n",
        "    y_true = np.array(y_true)\n",
        "    y_pred = np.array(y_pred)\n",
        "\n",
        "    # Check if denominator is zero\n",
        "    if np.sum(y_pred) == 0:\n",
        "        print(\"Warning: Sum of predictions is zero. Cannot calculate Bias.\")\n",
        "        return np.nan\n",
        "\n",
        "    return (np.sum(y_true) / np.sum(y_pred)) - 1\n",
        "\n",
        "def convert_yearweek(yearweek):\n",
        "    \"\"\"Convert YYYY-WW format to datetime\"\"\"\n",
        "    year, week = map(int, yearweek.split('-'))\n",
        "    # Create a date for January 1st of the given year\n",
        "    jan1 = pd.Timestamp(f'{year}-01-01')\n",
        "    # Find the Monday of the week containing Jan 1\n",
        "    monday_of_jan1_week = jan1 - pd.Timedelta(days=jan1.dayofweek)\n",
        "    # Adjust to get the first Monday of the ISO week\n",
        "    if jan1.isocalendar()[1] > 1:\n",
        "        week1_start = monday_of_jan1_week\n",
        "    else:\n",
        "        week1_start = monday_of_jan1_week + pd.Timedelta(weeks=1)\n",
        "    # Calculate the start of the target week\n",
        "    return week1_start + pd.Timedelta(weeks=week-1)\n",
        "\n",
        "def create_cyclical_features(df, col, period):\n",
        "    \"\"\"Create sin and cos features to represent cyclical data\"\"\"\n",
        "    df[f'{col}_sin'] = np.sin(2 * np.pi * df[col]/period)\n",
        "    df[f'{col}_cos'] = np.cos(2 * np.pi * df[col]/period)\n",
        "    return df\n",
        "\n",
        "def target_encode(df, col, target, smoothing=10):\n",
        "    \"\"\"\n",
        "    Target encoding with smoothing.\n",
        "    Smoothing helps prevent overfitting with small groups.\n",
        "    \"\"\"\n",
        "    # Calculate global mean\n",
        "    global_mean = df[target].mean()\n",
        "\n",
        "    # Group by the category and calculate mean\n",
        "    category_means = df.groupby(col)[target].agg(['mean', 'count'])\n",
        "\n",
        "    # Apply smoothing\n",
        "    smoothed_means = (category_means['count'] * category_means['mean'] +\n",
        "                      smoothing * global_mean) / (category_means['count'] + smoothing)\n",
        "\n",
        "    # Map the encoded values back\n",
        "    encoded_col = df[col].map(smoothed_means)\n",
        "\n",
        "    return encoded_col\n",
        "\n",
        "def remove_collinear_features(df, threshold=0.9):\n",
        "    \"\"\"\n",
        "    Remove highly correlated features to reduce multicollinearity.\n",
        "    \"\"\"\n",
        "    # Calculate correlation matrix\n",
        "    corr_matrix = df.corr().abs()\n",
        "\n",
        "    # Select upper triangle of correlation matrix\n",
        "    upper = corr_matrix.where(np.triu(np.ones(corr_matrix.shape), k=1).astype(bool))\n",
        "\n",
        "    # Find features with correlation greater than threshold\n",
        "    to_drop = [column for column in upper.columns if any(upper[column] > threshold)]\n",
        "\n",
        "    print(f\"Dropping {len(to_drop)} highly correlated features: {to_drop}\")\n",
        "\n",
        "    # Drop features\n",
        "    df_reduced = df.drop(columns=to_drop)\n",
        "\n",
        "    return df_reduced, to_drop\n"
      ],
      "metadata": {
        "id": "5Pwfa9KoPsyT"
      },
      "id": "5Pwfa9KoPsyT",
      "execution_count": 99,
      "outputs": []
    },
    {
      "cell_type": "markdown",
      "id": "82945d23-90ca-4e66-89c8-b0069b5dab3d",
      "metadata": {
        "id": "82945d23-90ca-4e66-89c8-b0069b5dab3d"
      },
      "source": [
        "## Data Loader"
      ]
    },
    {
      "cell_type": "code",
      "execution_count": 49,
      "id": "2e55b197-9013-44f2-a17c-a9cb866438ca",
      "metadata": {
        "colab": {
          "base_uri": "https://localhost:8080/"
        },
        "id": "2e55b197-9013-44f2-a17c-a9cb866438ca",
        "outputId": "54edc349-ef68-46f6-da3e-3b09f4bc23b7"
      },
      "outputs": [
        {
          "output_type": "stream",
          "name": "stdout",
          "text": [
            "Loading and preprocessing data...\n"
          ]
        }
      ],
      "source": [
        "# Load data\n",
        "print(\"Loading and preprocessing data...\")\n",
        "df = pd.read_csv('sales_pred_case.csv')"
      ]
    },
    {
      "cell_type": "markdown",
      "id": "f5ab5136-3ee9-48e8-91aa-62acaeb9ebcb",
      "metadata": {
        "id": "f5ab5136-3ee9-48e8-91aa-62acaeb9ebcb"
      },
      "source": [
        "### Data exploration"
      ]
    },
    {
      "cell_type": "code",
      "source": [
        "print(f\"Data shape: {df.shape}\")\n",
        "print(f\"Number of unique Keys: {df['Key'].nunique()}\")\n",
        "print(f\"Date range: {df['YearWeek'].min()} to {df['YearWeek'].max()}\")\n",
        "print(\"Number of unique YearWeeks:\", df['YearWeek'].nunique())\n",
        "print(\"\\nMissing values per column:\")\n",
        "print(df.isnull().sum())\n",
        "df.head()"
      ],
      "metadata": {
        "colab": {
          "base_uri": "https://localhost:8080/",
          "height": 694
        },
        "id": "-j7G18Y3WQV_",
        "outputId": "2538676f-27c5-412b-d247-81febba0b050"
      },
      "id": "-j7G18Y3WQV_",
      "execution_count": 59,
      "outputs": [
        {
          "output_type": "stream",
          "name": "stdout",
          "text": [
            "Data shape: (143273, 20)\n",
            "Number of unique Keys: 970\n",
            "Date range: 2020-01 to 2023-03\n",
            "Number of unique YearWeeks: 160\n",
            "\n",
            "Missing values per column:\n",
            "Key                0\n",
            "YearWeek           0\n",
            "Sales              0\n",
            "Material           0\n",
            "Customer           0\n",
            "CustomerGroup      0\n",
            "Category           0\n",
            "Week               0\n",
            "Month              0\n",
            "Qtr                0\n",
            "New_Year           0\n",
            "Christmas_Day      0\n",
            "Easter_Monday      0\n",
            "Other_Holidays     0\n",
            "DiscountedPrice    0\n",
            "PromoShipment      0\n",
            "Objective1         0\n",
            "Objective2         0\n",
            "PromoMethod        0\n",
            "PromoStatus        0\n",
            "dtype: int64\n"
          ]
        },
        {
          "output_type": "execute_result",
          "data": {
            "text/plain": [
              "    Key YearWeek  Sales  Material  Customer  CustomerGroup  Category  Week  \\\n",
              "0  0_25  2020-03    2.0         0        25             13         0     3   \n",
              "1  0_25  2020-04    0.0         0        25             13         0     4   \n",
              "2  0_25  2020-05    0.0         0        25             13         0     5   \n",
              "3  0_25  2020-06    0.0         0        25             13         0     6   \n",
              "4  0_25  2020-07    0.0         0        25             13         0     7   \n",
              "\n",
              "   Month  Qtr  New_Year  Christmas_Day  Easter_Monday  Other_Holidays  \\\n",
              "0      1    1         0              0              0               0   \n",
              "1      1    1         0              0              0               0   \n",
              "2      2    1         0              0              0               0   \n",
              "3      2    1         0              0              0               0   \n",
              "4      2    1         0              0              0               0   \n",
              "\n",
              "   DiscountedPrice  PromoShipment  Objective1  Objective2  PromoMethod  \\\n",
              "0             5.92              0           7           3            8   \n",
              "1             0.00              0           7           3            8   \n",
              "2             0.00              0           7           3            8   \n",
              "3             0.00              0           7           3            8   \n",
              "4             0.00              0           7           3            8   \n",
              "\n",
              "   PromoStatus  \n",
              "0            7  \n",
              "1            7  \n",
              "2            7  \n",
              "3            7  \n",
              "4            7  "
            ],
            "text/html": [
              "\n",
              "  <div id=\"df-675600ae-9db1-4a8b-b73e-8e2352f1f6e8\" class=\"colab-df-container\">\n",
              "    <div>\n",
              "<style scoped>\n",
              "    .dataframe tbody tr th:only-of-type {\n",
              "        vertical-align: middle;\n",
              "    }\n",
              "\n",
              "    .dataframe tbody tr th {\n",
              "        vertical-align: top;\n",
              "    }\n",
              "\n",
              "    .dataframe thead th {\n",
              "        text-align: right;\n",
              "    }\n",
              "</style>\n",
              "<table border=\"1\" class=\"dataframe\">\n",
              "  <thead>\n",
              "    <tr style=\"text-align: right;\">\n",
              "      <th></th>\n",
              "      <th>Key</th>\n",
              "      <th>YearWeek</th>\n",
              "      <th>Sales</th>\n",
              "      <th>Material</th>\n",
              "      <th>Customer</th>\n",
              "      <th>CustomerGroup</th>\n",
              "      <th>Category</th>\n",
              "      <th>Week</th>\n",
              "      <th>Month</th>\n",
              "      <th>Qtr</th>\n",
              "      <th>New_Year</th>\n",
              "      <th>Christmas_Day</th>\n",
              "      <th>Easter_Monday</th>\n",
              "      <th>Other_Holidays</th>\n",
              "      <th>DiscountedPrice</th>\n",
              "      <th>PromoShipment</th>\n",
              "      <th>Objective1</th>\n",
              "      <th>Objective2</th>\n",
              "      <th>PromoMethod</th>\n",
              "      <th>PromoStatus</th>\n",
              "    </tr>\n",
              "  </thead>\n",
              "  <tbody>\n",
              "    <tr>\n",
              "      <th>0</th>\n",
              "      <td>0_25</td>\n",
              "      <td>2020-03</td>\n",
              "      <td>2.0</td>\n",
              "      <td>0</td>\n",
              "      <td>25</td>\n",
              "      <td>13</td>\n",
              "      <td>0</td>\n",
              "      <td>3</td>\n",
              "      <td>1</td>\n",
              "      <td>1</td>\n",
              "      <td>0</td>\n",
              "      <td>0</td>\n",
              "      <td>0</td>\n",
              "      <td>0</td>\n",
              "      <td>5.92</td>\n",
              "      <td>0</td>\n",
              "      <td>7</td>\n",
              "      <td>3</td>\n",
              "      <td>8</td>\n",
              "      <td>7</td>\n",
              "    </tr>\n",
              "    <tr>\n",
              "      <th>1</th>\n",
              "      <td>0_25</td>\n",
              "      <td>2020-04</td>\n",
              "      <td>0.0</td>\n",
              "      <td>0</td>\n",
              "      <td>25</td>\n",
              "      <td>13</td>\n",
              "      <td>0</td>\n",
              "      <td>4</td>\n",
              "      <td>1</td>\n",
              "      <td>1</td>\n",
              "      <td>0</td>\n",
              "      <td>0</td>\n",
              "      <td>0</td>\n",
              "      <td>0</td>\n",
              "      <td>0.00</td>\n",
              "      <td>0</td>\n",
              "      <td>7</td>\n",
              "      <td>3</td>\n",
              "      <td>8</td>\n",
              "      <td>7</td>\n",
              "    </tr>\n",
              "    <tr>\n",
              "      <th>2</th>\n",
              "      <td>0_25</td>\n",
              "      <td>2020-05</td>\n",
              "      <td>0.0</td>\n",
              "      <td>0</td>\n",
              "      <td>25</td>\n",
              "      <td>13</td>\n",
              "      <td>0</td>\n",
              "      <td>5</td>\n",
              "      <td>2</td>\n",
              "      <td>1</td>\n",
              "      <td>0</td>\n",
              "      <td>0</td>\n",
              "      <td>0</td>\n",
              "      <td>0</td>\n",
              "      <td>0.00</td>\n",
              "      <td>0</td>\n",
              "      <td>7</td>\n",
              "      <td>3</td>\n",
              "      <td>8</td>\n",
              "      <td>7</td>\n",
              "    </tr>\n",
              "    <tr>\n",
              "      <th>3</th>\n",
              "      <td>0_25</td>\n",
              "      <td>2020-06</td>\n",
              "      <td>0.0</td>\n",
              "      <td>0</td>\n",
              "      <td>25</td>\n",
              "      <td>13</td>\n",
              "      <td>0</td>\n",
              "      <td>6</td>\n",
              "      <td>2</td>\n",
              "      <td>1</td>\n",
              "      <td>0</td>\n",
              "      <td>0</td>\n",
              "      <td>0</td>\n",
              "      <td>0</td>\n",
              "      <td>0.00</td>\n",
              "      <td>0</td>\n",
              "      <td>7</td>\n",
              "      <td>3</td>\n",
              "      <td>8</td>\n",
              "      <td>7</td>\n",
              "    </tr>\n",
              "    <tr>\n",
              "      <th>4</th>\n",
              "      <td>0_25</td>\n",
              "      <td>2020-07</td>\n",
              "      <td>0.0</td>\n",
              "      <td>0</td>\n",
              "      <td>25</td>\n",
              "      <td>13</td>\n",
              "      <td>0</td>\n",
              "      <td>7</td>\n",
              "      <td>2</td>\n",
              "      <td>1</td>\n",
              "      <td>0</td>\n",
              "      <td>0</td>\n",
              "      <td>0</td>\n",
              "      <td>0</td>\n",
              "      <td>0.00</td>\n",
              "      <td>0</td>\n",
              "      <td>7</td>\n",
              "      <td>3</td>\n",
              "      <td>8</td>\n",
              "      <td>7</td>\n",
              "    </tr>\n",
              "  </tbody>\n",
              "</table>\n",
              "</div>\n",
              "    <div class=\"colab-df-buttons\">\n",
              "\n",
              "  <div class=\"colab-df-container\">\n",
              "    <button class=\"colab-df-convert\" onclick=\"convertToInteractive('df-675600ae-9db1-4a8b-b73e-8e2352f1f6e8')\"\n",
              "            title=\"Convert this dataframe to an interactive table.\"\n",
              "            style=\"display:none;\">\n",
              "\n",
              "  <svg xmlns=\"http://www.w3.org/2000/svg\" height=\"24px\" viewBox=\"0 -960 960 960\">\n",
              "    <path d=\"M120-120v-720h720v720H120Zm60-500h600v-160H180v160Zm220 220h160v-160H400v160Zm0 220h160v-160H400v160ZM180-400h160v-160H180v160Zm440 0h160v-160H620v160ZM180-180h160v-160H180v160Zm440 0h160v-160H620v160Z\"/>\n",
              "  </svg>\n",
              "    </button>\n",
              "\n",
              "  <style>\n",
              "    .colab-df-container {\n",
              "      display:flex;\n",
              "      gap: 12px;\n",
              "    }\n",
              "\n",
              "    .colab-df-convert {\n",
              "      background-color: #E8F0FE;\n",
              "      border: none;\n",
              "      border-radius: 50%;\n",
              "      cursor: pointer;\n",
              "      display: none;\n",
              "      fill: #1967D2;\n",
              "      height: 32px;\n",
              "      padding: 0 0 0 0;\n",
              "      width: 32px;\n",
              "    }\n",
              "\n",
              "    .colab-df-convert:hover {\n",
              "      background-color: #E2EBFA;\n",
              "      box-shadow: 0px 1px 2px rgba(60, 64, 67, 0.3), 0px 1px 3px 1px rgba(60, 64, 67, 0.15);\n",
              "      fill: #174EA6;\n",
              "    }\n",
              "\n",
              "    .colab-df-buttons div {\n",
              "      margin-bottom: 4px;\n",
              "    }\n",
              "\n",
              "    [theme=dark] .colab-df-convert {\n",
              "      background-color: #3B4455;\n",
              "      fill: #D2E3FC;\n",
              "    }\n",
              "\n",
              "    [theme=dark] .colab-df-convert:hover {\n",
              "      background-color: #434B5C;\n",
              "      box-shadow: 0px 1px 3px 1px rgba(0, 0, 0, 0.15);\n",
              "      filter: drop-shadow(0px 1px 2px rgba(0, 0, 0, 0.3));\n",
              "      fill: #FFFFFF;\n",
              "    }\n",
              "  </style>\n",
              "\n",
              "    <script>\n",
              "      const buttonEl =\n",
              "        document.querySelector('#df-675600ae-9db1-4a8b-b73e-8e2352f1f6e8 button.colab-df-convert');\n",
              "      buttonEl.style.display =\n",
              "        google.colab.kernel.accessAllowed ? 'block' : 'none';\n",
              "\n",
              "      async function convertToInteractive(key) {\n",
              "        const element = document.querySelector('#df-675600ae-9db1-4a8b-b73e-8e2352f1f6e8');\n",
              "        const dataTable =\n",
              "          await google.colab.kernel.invokeFunction('convertToInteractive',\n",
              "                                                    [key], {});\n",
              "        if (!dataTable) return;\n",
              "\n",
              "        const docLinkHtml = 'Like what you see? Visit the ' +\n",
              "          '<a target=\"_blank\" href=https://colab.research.google.com/notebooks/data_table.ipynb>data table notebook</a>'\n",
              "          + ' to learn more about interactive tables.';\n",
              "        element.innerHTML = '';\n",
              "        dataTable['output_type'] = 'display_data';\n",
              "        await google.colab.output.renderOutput(dataTable, element);\n",
              "        const docLink = document.createElement('div');\n",
              "        docLink.innerHTML = docLinkHtml;\n",
              "        element.appendChild(docLink);\n",
              "      }\n",
              "    </script>\n",
              "  </div>\n",
              "\n",
              "\n",
              "<div id=\"df-f6d6e899-0ae1-4da8-be92-000c55a44cf6\">\n",
              "  <button class=\"colab-df-quickchart\" onclick=\"quickchart('df-f6d6e899-0ae1-4da8-be92-000c55a44cf6')\"\n",
              "            title=\"Suggest charts\"\n",
              "            style=\"display:none;\">\n",
              "\n",
              "<svg xmlns=\"http://www.w3.org/2000/svg\" height=\"24px\"viewBox=\"0 0 24 24\"\n",
              "     width=\"24px\">\n",
              "    <g>\n",
              "        <path d=\"M19 3H5c-1.1 0-2 .9-2 2v14c0 1.1.9 2 2 2h14c1.1 0 2-.9 2-2V5c0-1.1-.9-2-2-2zM9 17H7v-7h2v7zm4 0h-2V7h2v10zm4 0h-2v-4h2v4z\"/>\n",
              "    </g>\n",
              "</svg>\n",
              "  </button>\n",
              "\n",
              "<style>\n",
              "  .colab-df-quickchart {\n",
              "      --bg-color: #E8F0FE;\n",
              "      --fill-color: #1967D2;\n",
              "      --hover-bg-color: #E2EBFA;\n",
              "      --hover-fill-color: #174EA6;\n",
              "      --disabled-fill-color: #AAA;\n",
              "      --disabled-bg-color: #DDD;\n",
              "  }\n",
              "\n",
              "  [theme=dark] .colab-df-quickchart {\n",
              "      --bg-color: #3B4455;\n",
              "      --fill-color: #D2E3FC;\n",
              "      --hover-bg-color: #434B5C;\n",
              "      --hover-fill-color: #FFFFFF;\n",
              "      --disabled-bg-color: #3B4455;\n",
              "      --disabled-fill-color: #666;\n",
              "  }\n",
              "\n",
              "  .colab-df-quickchart {\n",
              "    background-color: var(--bg-color);\n",
              "    border: none;\n",
              "    border-radius: 50%;\n",
              "    cursor: pointer;\n",
              "    display: none;\n",
              "    fill: var(--fill-color);\n",
              "    height: 32px;\n",
              "    padding: 0;\n",
              "    width: 32px;\n",
              "  }\n",
              "\n",
              "  .colab-df-quickchart:hover {\n",
              "    background-color: var(--hover-bg-color);\n",
              "    box-shadow: 0 1px 2px rgba(60, 64, 67, 0.3), 0 1px 3px 1px rgba(60, 64, 67, 0.15);\n",
              "    fill: var(--button-hover-fill-color);\n",
              "  }\n",
              "\n",
              "  .colab-df-quickchart-complete:disabled,\n",
              "  .colab-df-quickchart-complete:disabled:hover {\n",
              "    background-color: var(--disabled-bg-color);\n",
              "    fill: var(--disabled-fill-color);\n",
              "    box-shadow: none;\n",
              "  }\n",
              "\n",
              "  .colab-df-spinner {\n",
              "    border: 2px solid var(--fill-color);\n",
              "    border-color: transparent;\n",
              "    border-bottom-color: var(--fill-color);\n",
              "    animation:\n",
              "      spin 1s steps(1) infinite;\n",
              "  }\n",
              "\n",
              "  @keyframes spin {\n",
              "    0% {\n",
              "      border-color: transparent;\n",
              "      border-bottom-color: var(--fill-color);\n",
              "      border-left-color: var(--fill-color);\n",
              "    }\n",
              "    20% {\n",
              "      border-color: transparent;\n",
              "      border-left-color: var(--fill-color);\n",
              "      border-top-color: var(--fill-color);\n",
              "    }\n",
              "    30% {\n",
              "      border-color: transparent;\n",
              "      border-left-color: var(--fill-color);\n",
              "      border-top-color: var(--fill-color);\n",
              "      border-right-color: var(--fill-color);\n",
              "    }\n",
              "    40% {\n",
              "      border-color: transparent;\n",
              "      border-right-color: var(--fill-color);\n",
              "      border-top-color: var(--fill-color);\n",
              "    }\n",
              "    60% {\n",
              "      border-color: transparent;\n",
              "      border-right-color: var(--fill-color);\n",
              "    }\n",
              "    80% {\n",
              "      border-color: transparent;\n",
              "      border-right-color: var(--fill-color);\n",
              "      border-bottom-color: var(--fill-color);\n",
              "    }\n",
              "    90% {\n",
              "      border-color: transparent;\n",
              "      border-bottom-color: var(--fill-color);\n",
              "    }\n",
              "  }\n",
              "</style>\n",
              "\n",
              "  <script>\n",
              "    async function quickchart(key) {\n",
              "      const quickchartButtonEl =\n",
              "        document.querySelector('#' + key + ' button');\n",
              "      quickchartButtonEl.disabled = true;  // To prevent multiple clicks.\n",
              "      quickchartButtonEl.classList.add('colab-df-spinner');\n",
              "      try {\n",
              "        const charts = await google.colab.kernel.invokeFunction(\n",
              "            'suggestCharts', [key], {});\n",
              "      } catch (error) {\n",
              "        console.error('Error during call to suggestCharts:', error);\n",
              "      }\n",
              "      quickchartButtonEl.classList.remove('colab-df-spinner');\n",
              "      quickchartButtonEl.classList.add('colab-df-quickchart-complete');\n",
              "    }\n",
              "    (() => {\n",
              "      let quickchartButtonEl =\n",
              "        document.querySelector('#df-f6d6e899-0ae1-4da8-be92-000c55a44cf6 button');\n",
              "      quickchartButtonEl.style.display =\n",
              "        google.colab.kernel.accessAllowed ? 'block' : 'none';\n",
              "    })();\n",
              "  </script>\n",
              "</div>\n",
              "\n",
              "    </div>\n",
              "  </div>\n"
            ],
            "application/vnd.google.colaboratory.intrinsic+json": {
              "type": "dataframe",
              "variable_name": "df"
            }
          },
          "metadata": {},
          "execution_count": 59
        }
      ]
    },
    {
      "cell_type": "code",
      "execution_count": 54,
      "id": "1de791b8-b3d1-4c92-a91d-39ac9bdd9bcd",
      "metadata": {
        "colab": {
          "base_uri": "https://localhost:8080/",
          "height": 648
        },
        "id": "1de791b8-b3d1-4c92-a91d-39ac9bdd9bcd",
        "outputId": "1b9975f4-6399-458b-99ab-206ffdcd1f02"
      },
      "outputs": [
        {
          "output_type": "stream",
          "name": "stdout",
          "text": [
            "\n",
            "Summary Statistics:\n"
          ]
        },
        {
          "output_type": "execute_result",
          "data": {
            "text/plain": [
              "                    count        mean         std       min   25%    50%  \\\n",
              "Sales            143273.0  226.232961  640.523581      0.00   0.0    0.0   \n",
              "Material         143273.0  100.433906   49.288938      0.00  63.0  107.0   \n",
              "Customer         143273.0   15.740258    9.078910      0.00  10.0   15.0   \n",
              "CustomerGroup    143273.0   10.460589    6.190107      0.00   5.0   10.0   \n",
              "Category         143273.0    0.000000    0.000000      0.00   0.0    0.0   \n",
              "Week             143273.0   26.856323   15.174052      1.00  14.0   27.0   \n",
              "Month            143273.0    6.597070    3.453950      1.00   4.0    7.0   \n",
              "Qtr              143273.0    2.526757    1.120696      1.00   2.0    3.0   \n",
              "New_Year         143273.0    0.021141    0.143856      0.00   0.0    0.0   \n",
              "Christmas_Day    143273.0    0.025678    0.158174      0.00   0.0    0.0   \n",
              "Easter_Monday    143273.0    0.018601    0.135111      0.00   0.0    0.0   \n",
              "Other_Holidays   143273.0    0.138414    0.345335      0.00   0.0    0.0   \n",
              "DiscountedPrice  143273.0    2.451470   45.946344 -13606.23   0.0    0.0   \n",
              "PromoShipment    143273.0    0.388119    0.487324      0.00   0.0    0.0   \n",
              "Objective1       143273.0    5.769147    1.962011      0.00   5.0    7.0   \n",
              "Objective2       143273.0    2.156882    1.100601      0.00   1.0    3.0   \n",
              "PromoMethod      143273.0    7.026272    1.970161      0.00   7.0    8.0   \n",
              "PromoStatus      143273.0    5.305759    2.187815      0.00   3.0    7.0   \n",
              "\n",
              "                        75%      max  \n",
              "Sales            160.000000  21450.0  \n",
              "Material         144.000000    182.0  \n",
              "Customer          25.000000     32.0  \n",
              "CustomerGroup     15.000000     21.0  \n",
              "Category           0.000000      0.0  \n",
              "Week              40.000000     53.0  \n",
              "Month             10.000000     12.0  \n",
              "Qtr                4.000000      4.0  \n",
              "New_Year           0.000000      1.0  \n",
              "Christmas_Day      0.000000      1.0  \n",
              "Easter_Monday      0.000000      1.0  \n",
              "Other_Holidays     0.000000      1.0  \n",
              "DiscountedPrice    6.080606     86.4  \n",
              "PromoShipment      1.000000      1.0  \n",
              "Objective1         7.000000      7.0  \n",
              "Objective2         3.000000      3.0  \n",
              "PromoMethod        8.000000      8.0  \n",
              "PromoStatus        7.000000      7.0  "
            ],
            "text/html": [
              "\n",
              "  <div id=\"df-bf8c6794-ee4a-4ed6-abb5-c825ecaf6318\" class=\"colab-df-container\">\n",
              "    <div>\n",
              "<style scoped>\n",
              "    .dataframe tbody tr th:only-of-type {\n",
              "        vertical-align: middle;\n",
              "    }\n",
              "\n",
              "    .dataframe tbody tr th {\n",
              "        vertical-align: top;\n",
              "    }\n",
              "\n",
              "    .dataframe thead th {\n",
              "        text-align: right;\n",
              "    }\n",
              "</style>\n",
              "<table border=\"1\" class=\"dataframe\">\n",
              "  <thead>\n",
              "    <tr style=\"text-align: right;\">\n",
              "      <th></th>\n",
              "      <th>count</th>\n",
              "      <th>mean</th>\n",
              "      <th>std</th>\n",
              "      <th>min</th>\n",
              "      <th>25%</th>\n",
              "      <th>50%</th>\n",
              "      <th>75%</th>\n",
              "      <th>max</th>\n",
              "    </tr>\n",
              "  </thead>\n",
              "  <tbody>\n",
              "    <tr>\n",
              "      <th>Sales</th>\n",
              "      <td>143273.0</td>\n",
              "      <td>226.232961</td>\n",
              "      <td>640.523581</td>\n",
              "      <td>0.00</td>\n",
              "      <td>0.0</td>\n",
              "      <td>0.0</td>\n",
              "      <td>160.000000</td>\n",
              "      <td>21450.0</td>\n",
              "    </tr>\n",
              "    <tr>\n",
              "      <th>Material</th>\n",
              "      <td>143273.0</td>\n",
              "      <td>100.433906</td>\n",
              "      <td>49.288938</td>\n",
              "      <td>0.00</td>\n",
              "      <td>63.0</td>\n",
              "      <td>107.0</td>\n",
              "      <td>144.000000</td>\n",
              "      <td>182.0</td>\n",
              "    </tr>\n",
              "    <tr>\n",
              "      <th>Customer</th>\n",
              "      <td>143273.0</td>\n",
              "      <td>15.740258</td>\n",
              "      <td>9.078910</td>\n",
              "      <td>0.00</td>\n",
              "      <td>10.0</td>\n",
              "      <td>15.0</td>\n",
              "      <td>25.000000</td>\n",
              "      <td>32.0</td>\n",
              "    </tr>\n",
              "    <tr>\n",
              "      <th>CustomerGroup</th>\n",
              "      <td>143273.0</td>\n",
              "      <td>10.460589</td>\n",
              "      <td>6.190107</td>\n",
              "      <td>0.00</td>\n",
              "      <td>5.0</td>\n",
              "      <td>10.0</td>\n",
              "      <td>15.000000</td>\n",
              "      <td>21.0</td>\n",
              "    </tr>\n",
              "    <tr>\n",
              "      <th>Category</th>\n",
              "      <td>143273.0</td>\n",
              "      <td>0.000000</td>\n",
              "      <td>0.000000</td>\n",
              "      <td>0.00</td>\n",
              "      <td>0.0</td>\n",
              "      <td>0.0</td>\n",
              "      <td>0.000000</td>\n",
              "      <td>0.0</td>\n",
              "    </tr>\n",
              "    <tr>\n",
              "      <th>Week</th>\n",
              "      <td>143273.0</td>\n",
              "      <td>26.856323</td>\n",
              "      <td>15.174052</td>\n",
              "      <td>1.00</td>\n",
              "      <td>14.0</td>\n",
              "      <td>27.0</td>\n",
              "      <td>40.000000</td>\n",
              "      <td>53.0</td>\n",
              "    </tr>\n",
              "    <tr>\n",
              "      <th>Month</th>\n",
              "      <td>143273.0</td>\n",
              "      <td>6.597070</td>\n",
              "      <td>3.453950</td>\n",
              "      <td>1.00</td>\n",
              "      <td>4.0</td>\n",
              "      <td>7.0</td>\n",
              "      <td>10.000000</td>\n",
              "      <td>12.0</td>\n",
              "    </tr>\n",
              "    <tr>\n",
              "      <th>Qtr</th>\n",
              "      <td>143273.0</td>\n",
              "      <td>2.526757</td>\n",
              "      <td>1.120696</td>\n",
              "      <td>1.00</td>\n",
              "      <td>2.0</td>\n",
              "      <td>3.0</td>\n",
              "      <td>4.000000</td>\n",
              "      <td>4.0</td>\n",
              "    </tr>\n",
              "    <tr>\n",
              "      <th>New_Year</th>\n",
              "      <td>143273.0</td>\n",
              "      <td>0.021141</td>\n",
              "      <td>0.143856</td>\n",
              "      <td>0.00</td>\n",
              "      <td>0.0</td>\n",
              "      <td>0.0</td>\n",
              "      <td>0.000000</td>\n",
              "      <td>1.0</td>\n",
              "    </tr>\n",
              "    <tr>\n",
              "      <th>Christmas_Day</th>\n",
              "      <td>143273.0</td>\n",
              "      <td>0.025678</td>\n",
              "      <td>0.158174</td>\n",
              "      <td>0.00</td>\n",
              "      <td>0.0</td>\n",
              "      <td>0.0</td>\n",
              "      <td>0.000000</td>\n",
              "      <td>1.0</td>\n",
              "    </tr>\n",
              "    <tr>\n",
              "      <th>Easter_Monday</th>\n",
              "      <td>143273.0</td>\n",
              "      <td>0.018601</td>\n",
              "      <td>0.135111</td>\n",
              "      <td>0.00</td>\n",
              "      <td>0.0</td>\n",
              "      <td>0.0</td>\n",
              "      <td>0.000000</td>\n",
              "      <td>1.0</td>\n",
              "    </tr>\n",
              "    <tr>\n",
              "      <th>Other_Holidays</th>\n",
              "      <td>143273.0</td>\n",
              "      <td>0.138414</td>\n",
              "      <td>0.345335</td>\n",
              "      <td>0.00</td>\n",
              "      <td>0.0</td>\n",
              "      <td>0.0</td>\n",
              "      <td>0.000000</td>\n",
              "      <td>1.0</td>\n",
              "    </tr>\n",
              "    <tr>\n",
              "      <th>DiscountedPrice</th>\n",
              "      <td>143273.0</td>\n",
              "      <td>2.451470</td>\n",
              "      <td>45.946344</td>\n",
              "      <td>-13606.23</td>\n",
              "      <td>0.0</td>\n",
              "      <td>0.0</td>\n",
              "      <td>6.080606</td>\n",
              "      <td>86.4</td>\n",
              "    </tr>\n",
              "    <tr>\n",
              "      <th>PromoShipment</th>\n",
              "      <td>143273.0</td>\n",
              "      <td>0.388119</td>\n",
              "      <td>0.487324</td>\n",
              "      <td>0.00</td>\n",
              "      <td>0.0</td>\n",
              "      <td>0.0</td>\n",
              "      <td>1.000000</td>\n",
              "      <td>1.0</td>\n",
              "    </tr>\n",
              "    <tr>\n",
              "      <th>Objective1</th>\n",
              "      <td>143273.0</td>\n",
              "      <td>5.769147</td>\n",
              "      <td>1.962011</td>\n",
              "      <td>0.00</td>\n",
              "      <td>5.0</td>\n",
              "      <td>7.0</td>\n",
              "      <td>7.000000</td>\n",
              "      <td>7.0</td>\n",
              "    </tr>\n",
              "    <tr>\n",
              "      <th>Objective2</th>\n",
              "      <td>143273.0</td>\n",
              "      <td>2.156882</td>\n",
              "      <td>1.100601</td>\n",
              "      <td>0.00</td>\n",
              "      <td>1.0</td>\n",
              "      <td>3.0</td>\n",
              "      <td>3.000000</td>\n",
              "      <td>3.0</td>\n",
              "    </tr>\n",
              "    <tr>\n",
              "      <th>PromoMethod</th>\n",
              "      <td>143273.0</td>\n",
              "      <td>7.026272</td>\n",
              "      <td>1.970161</td>\n",
              "      <td>0.00</td>\n",
              "      <td>7.0</td>\n",
              "      <td>8.0</td>\n",
              "      <td>8.000000</td>\n",
              "      <td>8.0</td>\n",
              "    </tr>\n",
              "    <tr>\n",
              "      <th>PromoStatus</th>\n",
              "      <td>143273.0</td>\n",
              "      <td>5.305759</td>\n",
              "      <td>2.187815</td>\n",
              "      <td>0.00</td>\n",
              "      <td>3.0</td>\n",
              "      <td>7.0</td>\n",
              "      <td>7.000000</td>\n",
              "      <td>7.0</td>\n",
              "    </tr>\n",
              "  </tbody>\n",
              "</table>\n",
              "</div>\n",
              "    <div class=\"colab-df-buttons\">\n",
              "\n",
              "  <div class=\"colab-df-container\">\n",
              "    <button class=\"colab-df-convert\" onclick=\"convertToInteractive('df-bf8c6794-ee4a-4ed6-abb5-c825ecaf6318')\"\n",
              "            title=\"Convert this dataframe to an interactive table.\"\n",
              "            style=\"display:none;\">\n",
              "\n",
              "  <svg xmlns=\"http://www.w3.org/2000/svg\" height=\"24px\" viewBox=\"0 -960 960 960\">\n",
              "    <path d=\"M120-120v-720h720v720H120Zm60-500h600v-160H180v160Zm220 220h160v-160H400v160Zm0 220h160v-160H400v160ZM180-400h160v-160H180v160Zm440 0h160v-160H620v160ZM180-180h160v-160H180v160Zm440 0h160v-160H620v160Z\"/>\n",
              "  </svg>\n",
              "    </button>\n",
              "\n",
              "  <style>\n",
              "    .colab-df-container {\n",
              "      display:flex;\n",
              "      gap: 12px;\n",
              "    }\n",
              "\n",
              "    .colab-df-convert {\n",
              "      background-color: #E8F0FE;\n",
              "      border: none;\n",
              "      border-radius: 50%;\n",
              "      cursor: pointer;\n",
              "      display: none;\n",
              "      fill: #1967D2;\n",
              "      height: 32px;\n",
              "      padding: 0 0 0 0;\n",
              "      width: 32px;\n",
              "    }\n",
              "\n",
              "    .colab-df-convert:hover {\n",
              "      background-color: #E2EBFA;\n",
              "      box-shadow: 0px 1px 2px rgba(60, 64, 67, 0.3), 0px 1px 3px 1px rgba(60, 64, 67, 0.15);\n",
              "      fill: #174EA6;\n",
              "    }\n",
              "\n",
              "    .colab-df-buttons div {\n",
              "      margin-bottom: 4px;\n",
              "    }\n",
              "\n",
              "    [theme=dark] .colab-df-convert {\n",
              "      background-color: #3B4455;\n",
              "      fill: #D2E3FC;\n",
              "    }\n",
              "\n",
              "    [theme=dark] .colab-df-convert:hover {\n",
              "      background-color: #434B5C;\n",
              "      box-shadow: 0px 1px 3px 1px rgba(0, 0, 0, 0.15);\n",
              "      filter: drop-shadow(0px 1px 2px rgba(0, 0, 0, 0.3));\n",
              "      fill: #FFFFFF;\n",
              "    }\n",
              "  </style>\n",
              "\n",
              "    <script>\n",
              "      const buttonEl =\n",
              "        document.querySelector('#df-bf8c6794-ee4a-4ed6-abb5-c825ecaf6318 button.colab-df-convert');\n",
              "      buttonEl.style.display =\n",
              "        google.colab.kernel.accessAllowed ? 'block' : 'none';\n",
              "\n",
              "      async function convertToInteractive(key) {\n",
              "        const element = document.querySelector('#df-bf8c6794-ee4a-4ed6-abb5-c825ecaf6318');\n",
              "        const dataTable =\n",
              "          await google.colab.kernel.invokeFunction('convertToInteractive',\n",
              "                                                    [key], {});\n",
              "        if (!dataTable) return;\n",
              "\n",
              "        const docLinkHtml = 'Like what you see? Visit the ' +\n",
              "          '<a target=\"_blank\" href=https://colab.research.google.com/notebooks/data_table.ipynb>data table notebook</a>'\n",
              "          + ' to learn more about interactive tables.';\n",
              "        element.innerHTML = '';\n",
              "        dataTable['output_type'] = 'display_data';\n",
              "        await google.colab.output.renderOutput(dataTable, element);\n",
              "        const docLink = document.createElement('div');\n",
              "        docLink.innerHTML = docLinkHtml;\n",
              "        element.appendChild(docLink);\n",
              "      }\n",
              "    </script>\n",
              "  </div>\n",
              "\n",
              "\n",
              "<div id=\"df-d41337d7-78af-4422-802b-ead026d11948\">\n",
              "  <button class=\"colab-df-quickchart\" onclick=\"quickchart('df-d41337d7-78af-4422-802b-ead026d11948')\"\n",
              "            title=\"Suggest charts\"\n",
              "            style=\"display:none;\">\n",
              "\n",
              "<svg xmlns=\"http://www.w3.org/2000/svg\" height=\"24px\"viewBox=\"0 0 24 24\"\n",
              "     width=\"24px\">\n",
              "    <g>\n",
              "        <path d=\"M19 3H5c-1.1 0-2 .9-2 2v14c0 1.1.9 2 2 2h14c1.1 0 2-.9 2-2V5c0-1.1-.9-2-2-2zM9 17H7v-7h2v7zm4 0h-2V7h2v10zm4 0h-2v-4h2v4z\"/>\n",
              "    </g>\n",
              "</svg>\n",
              "  </button>\n",
              "\n",
              "<style>\n",
              "  .colab-df-quickchart {\n",
              "      --bg-color: #E8F0FE;\n",
              "      --fill-color: #1967D2;\n",
              "      --hover-bg-color: #E2EBFA;\n",
              "      --hover-fill-color: #174EA6;\n",
              "      --disabled-fill-color: #AAA;\n",
              "      --disabled-bg-color: #DDD;\n",
              "  }\n",
              "\n",
              "  [theme=dark] .colab-df-quickchart {\n",
              "      --bg-color: #3B4455;\n",
              "      --fill-color: #D2E3FC;\n",
              "      --hover-bg-color: #434B5C;\n",
              "      --hover-fill-color: #FFFFFF;\n",
              "      --disabled-bg-color: #3B4455;\n",
              "      --disabled-fill-color: #666;\n",
              "  }\n",
              "\n",
              "  .colab-df-quickchart {\n",
              "    background-color: var(--bg-color);\n",
              "    border: none;\n",
              "    border-radius: 50%;\n",
              "    cursor: pointer;\n",
              "    display: none;\n",
              "    fill: var(--fill-color);\n",
              "    height: 32px;\n",
              "    padding: 0;\n",
              "    width: 32px;\n",
              "  }\n",
              "\n",
              "  .colab-df-quickchart:hover {\n",
              "    background-color: var(--hover-bg-color);\n",
              "    box-shadow: 0 1px 2px rgba(60, 64, 67, 0.3), 0 1px 3px 1px rgba(60, 64, 67, 0.15);\n",
              "    fill: var(--button-hover-fill-color);\n",
              "  }\n",
              "\n",
              "  .colab-df-quickchart-complete:disabled,\n",
              "  .colab-df-quickchart-complete:disabled:hover {\n",
              "    background-color: var(--disabled-bg-color);\n",
              "    fill: var(--disabled-fill-color);\n",
              "    box-shadow: none;\n",
              "  }\n",
              "\n",
              "  .colab-df-spinner {\n",
              "    border: 2px solid var(--fill-color);\n",
              "    border-color: transparent;\n",
              "    border-bottom-color: var(--fill-color);\n",
              "    animation:\n",
              "      spin 1s steps(1) infinite;\n",
              "  }\n",
              "\n",
              "  @keyframes spin {\n",
              "    0% {\n",
              "      border-color: transparent;\n",
              "      border-bottom-color: var(--fill-color);\n",
              "      border-left-color: var(--fill-color);\n",
              "    }\n",
              "    20% {\n",
              "      border-color: transparent;\n",
              "      border-left-color: var(--fill-color);\n",
              "      border-top-color: var(--fill-color);\n",
              "    }\n",
              "    30% {\n",
              "      border-color: transparent;\n",
              "      border-left-color: var(--fill-color);\n",
              "      border-top-color: var(--fill-color);\n",
              "      border-right-color: var(--fill-color);\n",
              "    }\n",
              "    40% {\n",
              "      border-color: transparent;\n",
              "      border-right-color: var(--fill-color);\n",
              "      border-top-color: var(--fill-color);\n",
              "    }\n",
              "    60% {\n",
              "      border-color: transparent;\n",
              "      border-right-color: var(--fill-color);\n",
              "    }\n",
              "    80% {\n",
              "      border-color: transparent;\n",
              "      border-right-color: var(--fill-color);\n",
              "      border-bottom-color: var(--fill-color);\n",
              "    }\n",
              "    90% {\n",
              "      border-color: transparent;\n",
              "      border-bottom-color: var(--fill-color);\n",
              "    }\n",
              "  }\n",
              "</style>\n",
              "\n",
              "  <script>\n",
              "    async function quickchart(key) {\n",
              "      const quickchartButtonEl =\n",
              "        document.querySelector('#' + key + ' button');\n",
              "      quickchartButtonEl.disabled = true;  // To prevent multiple clicks.\n",
              "      quickchartButtonEl.classList.add('colab-df-spinner');\n",
              "      try {\n",
              "        const charts = await google.colab.kernel.invokeFunction(\n",
              "            'suggestCharts', [key], {});\n",
              "      } catch (error) {\n",
              "        console.error('Error during call to suggestCharts:', error);\n",
              "      }\n",
              "      quickchartButtonEl.classList.remove('colab-df-spinner');\n",
              "      quickchartButtonEl.classList.add('colab-df-quickchart-complete');\n",
              "    }\n",
              "    (() => {\n",
              "      let quickchartButtonEl =\n",
              "        document.querySelector('#df-d41337d7-78af-4422-802b-ead026d11948 button');\n",
              "      quickchartButtonEl.style.display =\n",
              "        google.colab.kernel.accessAllowed ? 'block' : 'none';\n",
              "    })();\n",
              "  </script>\n",
              "</div>\n",
              "\n",
              "    </div>\n",
              "  </div>\n"
            ],
            "application/vnd.google.colaboratory.intrinsic+json": {
              "type": "dataframe",
              "summary": "{\n  \"name\": \"df\",\n  \"rows\": 18,\n  \"fields\": [\n    {\n      \"column\": \"count\",\n      \"properties\": {\n        \"dtype\": \"number\",\n        \"std\": 0.0,\n        \"min\": 143273.0,\n        \"max\": 143273.0,\n        \"num_unique_values\": 1,\n        \"samples\": [\n          143273.0\n        ],\n        \"semantic_type\": \"\",\n        \"description\": \"\"\n      }\n    },\n    {\n      \"column\": \"mean\",\n      \"properties\": {\n        \"dtype\": \"number\",\n        \"std\": 55.87867376203984,\n        \"min\": 0.0,\n        \"max\": 226.23296085096285,\n        \"num_unique_values\": 18,\n        \"samples\": [\n          226.23296085096285\n        ],\n        \"semantic_type\": \"\",\n        \"description\": \"\"\n      }\n    },\n    {\n      \"column\": \"std\",\n      \"properties\": {\n        \"dtype\": \"number\",\n        \"std\": 149.79451693739426,\n        \"min\": 0.0,\n        \"max\": 640.5235805487946,\n        \"num_unique_values\": 18,\n        \"samples\": [\n          640.5235805487946\n        ],\n        \"semantic_type\": \"\",\n        \"description\": \"\"\n      }\n    },\n    {\n      \"column\": \"min\",\n      \"properties\": {\n        \"dtype\": \"number\",\n        \"std\": 3207.060783635438,\n        \"min\": -13606.23,\n        \"max\": 1.0,\n        \"num_unique_values\": 3,\n        \"samples\": [\n          0.0\n        ],\n        \"semantic_type\": \"\",\n        \"description\": \"\"\n      }\n    },\n    {\n      \"column\": \"25%\",\n      \"properties\": {\n        \"dtype\": \"number\",\n        \"std\": 14.69693845669907,\n        \"min\": 0.0,\n        \"max\": 63.0,\n        \"num_unique_values\": 10,\n        \"samples\": [\n          7.0\n        ],\n        \"semantic_type\": \"\",\n        \"description\": \"\"\n      }\n    },\n    {\n      \"column\": \"50%\",\n      \"properties\": {\n        \"dtype\": \"number\",\n        \"std\": 25.0189470685379,\n        \"min\": 0.0,\n        \"max\": 107.0,\n        \"num_unique_values\": 8,\n        \"samples\": [\n          107.0\n        ],\n        \"semantic_type\": \"\",\n        \"description\": \"\"\n      }\n    },\n    {\n      \"column\": \"75%\",\n      \"properties\": {\n        \"dtype\": \"number\",\n        \"std\": 47.79545880989834,\n        \"min\": 0.0,\n        \"max\": 160.0,\n        \"num_unique_values\": 13,\n        \"samples\": [\n          3.0\n        ],\n        \"semantic_type\": \"\",\n        \"description\": \"\"\n      }\n    },\n    {\n      \"column\": \"max\",\n      \"properties\": {\n        \"dtype\": \"number\",\n        \"std\": 5050.1873986843375,\n        \"min\": 0.0,\n        \"max\": 21450.0,\n        \"num_unique_values\": 13,\n        \"samples\": [\n          3.0\n        ],\n        \"semantic_type\": \"\",\n        \"description\": \"\"\n      }\n    }\n  ]\n}"
            }
          },
          "metadata": {},
          "execution_count": 54
        }
      ],
      "source": [
        "# Summary statistics\n",
        "print(\"\\nSummary Statistics:\")\n",
        "df.describe().T"
      ]
    },
    {
      "cell_type": "code",
      "execution_count": null,
      "id": "13a2951e-4331-411c-9580-821f22fe8591",
      "metadata": {
        "id": "13a2951e-4331-411c-9580-821f22fe8591",
        "outputId": "f051c74d-1cba-4f13-9b42-4744cec6f6e7"
      },
      "outputs": [
        {
          "data": {
            "image/png": "[encoded data removed]",
            "text/plain": [
              "<Figure size 1400x600 with 2 Axes>"
            ]
          },
          "metadata": {},
          "output_type": "display_data"
        }
      ],
      "source": [
        "# Let's examine the distribution of sales\n",
        "plt.figure(figsize=(14, 6))\n",
        "plt.subplot(1, 2, 1)\n",
        "df['Sales'].hist(bins=50)\n",
        "plt.title('Sales Distribution')\n",
        "plt.xlabel('Sales')\n",
        "plt.ylabel('Frequency')\n",
        "\n",
        "plt.subplot(1, 2, 2)\n",
        "df[df['Sales'] > 0]['Sales'].hist(bins=50)\n",
        "plt.title('Non-Zero Sales Distribution')\n",
        "plt.xlabel('Sales')\n",
        "plt.ylabel('Frequency')\n",
        "plt.tight_layout()\n",
        "plt.show()"
      ]
    },
    {
      "cell_type": "code",
      "execution_count": 58,
      "id": "eb93b226-5404-42e7-acbb-4c0ae6e76781",
      "metadata": {
        "colab": {
          "base_uri": "https://localhost:8080/"
        },
        "id": "eb93b226-5404-42e7-acbb-4c0ae6e76781",
        "outputId": "31fe247c-5dd2-42ba-dea0-4c02ea40fb9a"
      },
      "outputs": [
        {
          "output_type": "stream",
          "name": "stdout",
          "text": [
            "Zero sales count: 80541 (56.22%)\n"
          ]
        }
      ],
      "source": [
        "# Count of zero sales\n",
        "zero_sales_count = (df['Sales'] == 0).sum()\n",
        "print(f\"Zero sales count: {zero_sales_count} ({zero_sales_count/len(df)*100:.2f}%)\")"
      ]
    },
    {
      "cell_type": "code",
      "source": [
        "# check Sales = 0 by year week\n",
        "zero_sales_by_yearweek = df.groupby('YearWeek')['Sales'].apply(lambda x: (x == 0).sum()).reset_index(name='ZeroSalesCount')\n",
        "\n",
        "zero_sales_by_yearweek"
      ],
      "metadata": {
        "id": "BWlWtURYzqYr",
        "outputId": "fa54d84a-0dfa-448c-d754-96225d739bae",
        "colab": {
          "base_uri": "https://localhost:8080/",
          "height": 358
        }
      },
      "id": "BWlWtURYzqYr",
      "execution_count": 146,
      "outputs": [
        {
          "output_type": "execute_result",
          "data": {
            "text/plain": [
              "    YearWeek  ZeroSalesCount\n",
              "0    2020-01               0\n",
              "1    2020-02              75\n",
              "2    2020-03             154\n",
              "3    2020-04             213\n",
              "4    2020-05             265\n",
              "..       ...             ...\n",
              "155  2022-51             970\n",
              "156  2022-52             970\n",
              "157  2023-01             970\n",
              "158  2023-02             970\n",
              "159  2023-03             970\n",
              "\n",
              "[160 rows x 2 columns]"
            ],
            "text/html": [
              "\n",
              "  <div id=\"df-852d15d2-ecbc-4595-ad7b-57db8ae6ae99\" class=\"colab-df-container\">\n",
              "    <div>\n",
              "<style scoped>\n",
              "    .dataframe tbody tr th:only-of-type {\n",
              "        vertical-align: middle;\n",
              "    }\n",
              "\n",
              "    .dataframe tbody tr th {\n",
              "        vertical-align: top;\n",
              "    }\n",
              "\n",
              "    .dataframe thead th {\n",
              "        text-align: right;\n",
              "    }\n",
              "</style>\n",
              "<table border=\"1\" class=\"dataframe\">\n",
              "  <thead>\n",
              "    <tr style=\"text-align: right;\">\n",
              "      <th></th>\n",
              "      <th>YearWeek</th>\n",
              "      <th>ZeroSalesCount</th>\n",
              "    </tr>\n",
              "  </thead>\n",
              "  <tbody>\n",
              "    <tr>\n",
              "      <th>0</th>\n",
              "      <td>2020-01</td>\n",
              "      <td>0</td>\n",
              "    </tr>\n",
              "    <tr>\n",
              "      <th>1</th>\n",
              "      <td>2020-02</td>\n",
              "      <td>75</td>\n",
              "    </tr>\n",
              "    <tr>\n",
              "      <th>2</th>\n",
              "      <td>2020-03</td>\n",
              "      <td>154</td>\n",
              "    </tr>\n",
              "    <tr>\n",
              "      <th>3</th>\n",
              "      <td>2020-04</td>\n",
              "      <td>213</td>\n",
              "    </tr>\n",
              "    <tr>\n",
              "      <th>4</th>\n",
              "      <td>2020-05</td>\n",
              "      <td>265</td>\n",
              "    </tr>\n",
              "    <tr>\n",
              "      <th>...</th>\n",
              "      <td>...</td>\n",
              "      <td>...</td>\n",
              "    </tr>\n",
              "    <tr>\n",
              "      <th>155</th>\n",
              "      <td>2022-51</td>\n",
              "      <td>970</td>\n",
              "    </tr>\n",
              "    <tr>\n",
              "      <th>156</th>\n",
              "      <td>2022-52</td>\n",
              "      <td>970</td>\n",
              "    </tr>\n",
              "    <tr>\n",
              "      <th>157</th>\n",
              "      <td>2023-01</td>\n",
              "      <td>970</td>\n",
              "    </tr>\n",
              "    <tr>\n",
              "      <th>158</th>\n",
              "      <td>2023-02</td>\n",
              "      <td>970</td>\n",
              "    </tr>\n",
              "    <tr>\n",
              "      <th>159</th>\n",
              "      <td>2023-03</td>\n",
              "      <td>970</td>\n",
              "    </tr>\n",
              "  </tbody>\n",
              "</table>\n",
              "<p>160 rows × 2 columns</p>\n",
              "</div>\n",
              "    <div class=\"colab-df-buttons\">\n",
              "\n",
              "  <div class=\"colab-df-container\">\n",
              "    <button class=\"colab-df-convert\" onclick=\"convertToInteractive('df-852d15d2-ecbc-4595-ad7b-57db8ae6ae99')\"\n",
              "            title=\"Convert this dataframe to an interactive table.\"\n",
              "            style=\"display:none;\">\n",
              "\n",
              "  <svg xmlns=\"http://www.w3.org/2000/svg\" height=\"24px\" viewBox=\"0 -960 960 960\">\n",
              "    <path d=\"M120-120v-720h720v720H120Zm60-500h600v-160H180v160Zm220 220h160v-160H400v160Zm0 220h160v-160H400v160ZM180-400h160v-160H180v160Zm440 0h160v-160H620v160ZM180-180h160v-160H180v160Zm440 0h160v-160H620v160Z\"/>\n",
              "  </svg>\n",
              "    </button>\n",
              "\n",
              "  <style>\n",
              "    .colab-df-container {\n",
              "      display:flex;\n",
              "      gap: 12px;\n",
              "    }\n",
              "\n",
              "    .colab-df-convert {\n",
              "      background-color: #E8F0FE;\n",
              "      border: none;\n",
              "      border-radius: 50%;\n",
              "      cursor: pointer;\n",
              "      display: none;\n",
              "      fill: #1967D2;\n",
              "      height: 32px;\n",
              "      padding: 0 0 0 0;\n",
              "      width: 32px;\n",
              "    }\n",
              "\n",
              "    .colab-df-convert:hover {\n",
              "      background-color: #E2EBFA;\n",
              "      box-shadow: 0px 1px 2px rgba(60, 64, 67, 0.3), 0px 1px 3px 1px rgba(60, 64, 67, 0.15);\n",
              "      fill: #174EA6;\n",
              "    }\n",
              "\n",
              "    .colab-df-buttons div {\n",
              "      margin-bottom: 4px;\n",
              "    }\n",
              "\n",
              "    [theme=dark] .colab-df-convert {\n",
              "      background-color: #3B4455;\n",
              "      fill: #D2E3FC;\n",
              "    }\n",
              "\n",
              "    [theme=dark] .colab-df-convert:hover {\n",
              "      background-color: #434B5C;\n",
              "      box-shadow: 0px 1px 3px 1px rgba(0, 0, 0, 0.15);\n",
              "      filter: drop-shadow(0px 1px 2px rgba(0, 0, 0, 0.3));\n",
              "      fill: #FFFFFF;\n",
              "    }\n",
              "  </style>\n",
              "\n",
              "    <script>\n",
              "      const buttonEl =\n",
              "        document.querySelector('#df-852d15d2-ecbc-4595-ad7b-57db8ae6ae99 button.colab-df-convert');\n",
              "      buttonEl.style.display =\n",
              "        google.colab.kernel.accessAllowed ? 'block' : 'none';\n",
              "\n",
              "      async function convertToInteractive(key) {\n",
              "        const element = document.querySelector('#df-852d15d2-ecbc-4595-ad7b-57db8ae6ae99');\n",
              "        const dataTable =\n",
              "          await google.colab.kernel.invokeFunction('convertToInteractive',\n",
              "                                                    [key], {});\n",
              "        if (!dataTable) return;\n",
              "\n",
              "        const docLinkHtml = 'Like what you see? Visit the ' +\n",
              "          '<a target=\"_blank\" href=https://colab.research.google.com/notebooks/data_table.ipynb>data table notebook</a>'\n",
              "          + ' to learn more about interactive tables.';\n",
              "        element.innerHTML = '';\n",
              "        dataTable['output_type'] = 'display_data';\n",
              "        await google.colab.output.renderOutput(dataTable, element);\n",
              "        const docLink = document.createElement('div');\n",
              "        docLink.innerHTML = docLinkHtml;\n",
              "        element.appendChild(docLink);\n",
              "      }\n",
              "    </script>\n",
              "  </div>\n",
              "\n",
              "\n",
              "<div id=\"df-8ebfdb0e-8426-43fd-b577-30c4927d2509\">\n",
              "  <button class=\"colab-df-quickchart\" onclick=\"quickchart('df-8ebfdb0e-8426-43fd-b577-30c4927d2509')\"\n",
              "            title=\"Suggest charts\"\n",
              "            style=\"display:none;\">\n",
              "\n",
              "<svg xmlns=\"http://www.w3.org/2000/svg\" height=\"24px\"viewBox=\"0 0 24 24\"\n",
              "     width=\"24px\">\n",
              "    <g>\n",
              "        <path d=\"M19 3H5c-1.1 0-2 .9-2 2v14c0 1.1.9 2 2 2h14c1.1 0 2-.9 2-2V5c0-1.1-.9-2-2-2zM9 17H7v-7h2v7zm4 0h-2V7h2v10zm4 0h-2v-4h2v4z\"/>\n",
              "    </g>\n",
              "</svg>\n",
              "  </button>\n",
              "\n",
              "<style>\n",
              "  .colab-df-quickchart {\n",
              "      --bg-color: #E8F0FE;\n",
              "      --fill-color: #1967D2;\n",
              "      --hover-bg-color: #E2EBFA;\n",
              "      --hover-fill-color: #174EA6;\n",
              "      --disabled-fill-color: #AAA;\n",
              "      --disabled-bg-color: #DDD;\n",
              "  }\n",
              "\n",
              "  [theme=dark] .colab-df-quickchart {\n",
              "      --bg-color: #3B4455;\n",
              "      --fill-color: #D2E3FC;\n",
              "      --hover-bg-color: #434B5C;\n",
              "      --hover-fill-color: #FFFFFF;\n",
              "      --disabled-bg-color: #3B4455;\n",
              "      --disabled-fill-color: #666;\n",
              "  }\n",
              "\n",
              "  .colab-df-quickchart {\n",
              "    background-color: var(--bg-color);\n",
              "    border: none;\n",
              "    border-radius: 50%;\n",
              "    cursor: pointer;\n",
              "    display: none;\n",
              "    fill: var(--fill-color);\n",
              "    height: 32px;\n",
              "    padding: 0;\n",
              "    width: 32px;\n",
              "  }\n",
              "\n",
              "  .colab-df-quickchart:hover {\n",
              "    background-color: var(--hover-bg-color);\n",
              "    box-shadow: 0 1px 2px rgba(60, 64, 67, 0.3), 0 1px 3px 1px rgba(60, 64, 67, 0.15);\n",
              "    fill: var(--button-hover-fill-color);\n",
              "  }\n",
              "\n",
              "  .colab-df-quickchart-complete:disabled,\n",
              "  .colab-df-quickchart-complete:disabled:hover {\n",
              "    background-color: var(--disabled-bg-color);\n",
              "    fill: var(--disabled-fill-color);\n",
              "    box-shadow: none;\n",
              "  }\n",
              "\n",
              "  .colab-df-spinner {\n",
              "    border: 2px solid var(--fill-color);\n",
              "    border-color: transparent;\n",
              "    border-bottom-color: var(--fill-color);\n",
              "    animation:\n",
              "      spin 1s steps(1) infinite;\n",
              "  }\n",
              "\n",
              "  @keyframes spin {\n",
              "    0% {\n",
              "      border-color: transparent;\n",
              "      border-bottom-color: var(--fill-color);\n",
              "      border-left-color: var(--fill-color);\n",
              "    }\n",
              "    20% {\n",
              "      border-color: transparent;\n",
              "      border-left-color: var(--fill-color);\n",
              "      border-top-color: var(--fill-color);\n",
              "    }\n",
              "    30% {\n",
              "      border-color: transparent;\n",
              "      border-left-color: var(--fill-color);\n",
              "      border-top-color: var(--fill-color);\n",
              "      border-right-color: var(--fill-color);\n",
              "    }\n",
              "    40% {\n",
              "      border-color: transparent;\n",
              "      border-right-color: var(--fill-color);\n",
              "      border-top-color: var(--fill-color);\n",
              "    }\n",
              "    60% {\n",
              "      border-color: transparent;\n",
              "      border-right-color: var(--fill-color);\n",
              "    }\n",
              "    80% {\n",
              "      border-color: transparent;\n",
              "      border-right-color: var(--fill-color);\n",
              "      border-bottom-color: var(--fill-color);\n",
              "    }\n",
              "    90% {\n",
              "      border-color: transparent;\n",
              "      border-bottom-color: var(--fill-color);\n",
              "    }\n",
              "  }\n",
              "</style>\n",
              "\n",
              "  <script>\n",
              "    async function quickchart(key) {\n",
              "      const quickchartButtonEl =\n",
              "        document.querySelector('#' + key + ' button');\n",
              "      quickchartButtonEl.disabled = true;  // To prevent multiple clicks.\n",
              "      quickchartButtonEl.classList.add('colab-df-spinner');\n",
              "      try {\n",
              "        const charts = await google.colab.kernel.invokeFunction(\n",
              "            'suggestCharts', [key], {});\n",
              "      } catch (error) {\n",
              "        console.error('Error during call to suggestCharts:', error);\n",
              "      }\n",
              "      quickchartButtonEl.classList.remove('colab-df-spinner');\n",
              "      quickchartButtonEl.classList.add('colab-df-quickchart-complete');\n",
              "    }\n",
              "    (() => {\n",
              "      let quickchartButtonEl =\n",
              "        document.querySelector('#df-8ebfdb0e-8426-43fd-b577-30c4927d2509 button');\n",
              "      quickchartButtonEl.style.display =\n",
              "        google.colab.kernel.accessAllowed ? 'block' : 'none';\n",
              "    })();\n",
              "  </script>\n",
              "</div>\n",
              "\n",
              "  <div id=\"id_09856573-a114-47e3-a463-1a3ad3e70558\">\n",
              "    <style>\n",
              "      .colab-df-generate {\n",
              "        background-color: #E8F0FE;\n",
              "        border: none;\n",
              "        border-radius: 50%;\n",
              "        cursor: pointer;\n",
              "        display: none;\n",
              "        fill: #1967D2;\n",
              "        height: 32px;\n",
              "        padding: 0 0 0 0;\n",
              "        width: 32px;\n",
              "      }\n",
              "\n",
              "      .colab-df-generate:hover {\n",
              "        background-color: #E2EBFA;\n",
              "        box-shadow: 0px 1px 2px rgba(60, 64, 67, 0.3), 0px 1px 3px 1px rgba(60, 64, 67, 0.15);\n",
              "        fill: #174EA6;\n",
              "      }\n",
              "\n",
              "      [theme=dark] .colab-df-generate {\n",
              "        background-color: #3B4455;\n",
              "        fill: #D2E3FC;\n",
              "      }\n",
              "\n",
              "      [theme=dark] .colab-df-generate:hover {\n",
              "        background-color: #434B5C;\n",
              "        box-shadow: 0px 1px 3px 1px rgba(0, 0, 0, 0.15);\n",
              "        filter: drop-shadow(0px 1px 2px rgba(0, 0, 0, 0.3));\n",
              "        fill: #FFFFFF;\n",
              "      }\n",
              "    </style>\n",
              "    <button class=\"colab-df-generate\" onclick=\"generateWithVariable('zero_sales_by_yearweek')\"\n",
              "            title=\"Generate code using this dataframe.\"\n",
              "            style=\"display:none;\">\n",
              "\n",
              "  <svg xmlns=\"http://www.w3.org/2000/svg\" height=\"24px\"viewBox=\"0 0 24 24\"\n",
              "       width=\"24px\">\n",
              "    <path d=\"M7,19H8.4L18.45,9,17,7.55,7,17.6ZM5,21V16.75L18.45,3.32a2,2,0,0,1,2.83,0l1.4,1.43a1.91,1.91,0,0,1,.58,1.4,1.91,1.91,0,0,1-.58,1.4L9.25,21ZM18.45,9,17,7.55Zm-12,3A5.31,5.31,0,0,0,4.9,8.1,5.31,5.31,0,0,0,1,6.5,5.31,5.31,0,0,0,4.9,4.9,5.31,5.31,0,0,0,6.5,1,5.31,5.31,0,0,0,8.1,4.9,5.31,5.31,0,0,0,12,6.5,5.46,5.46,0,0,0,6.5,12Z\"/>\n",
              "  </svg>\n",
              "    </button>\n",
              "    <script>\n",
              "      (() => {\n",
              "      const buttonEl =\n",
              "        document.querySelector('#id_09856573-a114-47e3-a463-1a3ad3e70558 button.colab-df-generate');\n",
              "      buttonEl.style.display =\n",
              "        google.colab.kernel.accessAllowed ? 'block' : 'none';\n",
              "\n",
              "      buttonEl.onclick = () => {\n",
              "        google.colab.notebook.generateWithVariable('zero_sales_by_yearweek');\n",
              "      }\n",
              "      })();\n",
              "    </script>\n",
              "  </div>\n",
              "\n",
              "    </div>\n",
              "  </div>\n"
            ],
            "application/vnd.google.colaboratory.intrinsic+json": {
              "type": "dataframe",
              "variable_name": "zero_sales_by_yearweek",
              "summary": "{\n  \"name\": \"zero_sales_by_yearweek\",\n  \"rows\": 160,\n  \"fields\": [\n    {\n      \"column\": \"YearWeek\",\n      \"properties\": {\n        \"dtype\": \"string\",\n        \"num_unique_values\": 160,\n        \"samples\": [\n          \"2022-01\",\n          \"2022-04\",\n          \"2022-37\"\n        ],\n        \"semantic_type\": \"\",\n        \"description\": \"\"\n      }\n    },\n    {\n      \"column\": \"ZeroSalesCount\",\n      \"properties\": {\n        \"dtype\": \"number\",\n        \"std\": 149,\n        \"min\": 0,\n        \"max\": 970,\n        \"num_unique_values\": 117,\n        \"samples\": [\n          422,\n          265,\n          485\n        ],\n        \"semantic_type\": \"\",\n        \"description\": \"\"\n      }\n    }\n  ]\n}"
            }
          },
          "metadata": {},
          "execution_count": 146
        }
      ]
    },
    {
      "cell_type": "markdown",
      "source": [
        "* Finding: Starting from 2022-46, there are 970 consitatnt records that Sales = 0\n",
        "* The test period (2022-46 to 2023-02) has zero sales values might because it's expected to predict those values."
      ],
      "metadata": {
        "id": "DSF_TWeV0FGm"
      },
      "id": "DSF_TWeV0FGm"
    },
    {
      "cell_type": "markdown",
      "id": "75bc9cb6-a18c-4d7a-9a21-3c4614a48448",
      "metadata": {
        "id": "75bc9cb6-a18c-4d7a-9a21-3c4614a48448"
      },
      "source": [
        "## Data preprocessing & Feature Engineer"
      ]
    },
    {
      "cell_type": "code",
      "execution_count": 60,
      "id": "e21a10a9-ce76-4a79-867f-6d57b6f20321",
      "metadata": {
        "id": "e21a10a9-ce76-4a79-867f-6d57b6f20321"
      },
      "outputs": [],
      "source": [
        "# Convert YearWeek to datetime\n",
        "df['Date'] = df['YearWeek'].apply(convert_yearweek)\n",
        "df = df.sort_values(['Key', 'Date'])"
      ]
    },
    {
      "cell_type": "code",
      "execution_count": 61,
      "id": "34732f59-83d4-4b98-b8aa-eabc3eac98be",
      "metadata": {
        "id": "34732f59-83d4-4b98-b8aa-eabc3eac98be"
      },
      "outputs": [],
      "source": [
        "# time-based features\n",
        "df['year'] = df['Date'].dt.year\n",
        "df['month'] = df['Date'].dt.month\n",
        "df['week_of_year'] = df['Date'].dt.isocalendar().week\n",
        "df['day_of_week'] = df['Date'].dt.dayofweek\n",
        "df['day_of_month'] = df['Date'].dt.day\n",
        "df['day_of_year'] = df['Date'].dt.dayofyear"
      ]
    },
    {
      "cell_type": "code",
      "execution_count": 63,
      "id": "e556c56d-9c8c-4a83-9ee5-66ef0da09358",
      "metadata": {
        "id": "e556c56d-9c8c-4a83-9ee5-66ef0da09358"
      },
      "outputs": [],
      "source": [
        "# Create cyclical features for seasonal patterns\n",
        "df = create_cyclical_features(df, 'week_of_year', 52)\n",
        "df = create_cyclical_features(df, 'month', 12)\n",
        "df = create_cyclical_features(df, 'day_of_week', 7)\n",
        "df = create_cyclical_features(df, 'day_of_month', 30)\n",
        "df = create_cyclical_features(df, 'day_of_year', 365)"
      ]
    },
    {
      "cell_type": "markdown",
      "source": [
        "### Feature Engineering"
      ],
      "metadata": {
        "id": "2Hu4HaVZX_C_"
      },
      "id": "2Hu4HaVZX_C_"
    },
    {
      "cell_type": "code",
      "source": [
        "# Handle zero sales values for log transformation\n",
        "df['Sales_log'] = np.log1p(df['Sales'])"
      ],
      "metadata": {
        "id": "53_sGkovYB2n"
      },
      "id": "53_sGkovYB2n",
      "execution_count": 64,
      "outputs": []
    },
    {
      "cell_type": "code",
      "execution_count": 66,
      "id": "c2930412-940d-4d49-bbc0-0710797d5339",
      "metadata": {
        "colab": {
          "base_uri": "https://localhost:8080/"
        },
        "id": "c2930412-940d-4d49-bbc0-0710797d5339",
        "outputId": "2deb8fe8-0b89-4e67-e8c4-08c2d336eb99"
      },
      "outputs": [
        {
          "output_type": "stream",
          "name": "stdout",
          "text": [
            "Creating lag features for periods: [1, 2, 3, 4, 8, 12, 16, 26, 52]\n"
          ]
        }
      ],
      "source": [
        "# Create lag features for each Key\n",
        "lag_periods = [1, 2, 3, 4, 8, 12, 16, 26, 52]\n",
        "print(f\"Creating lag features for periods: {lag_periods}\")\n",
        "for lag in lag_periods:\n",
        "    df[f'sales_lag_{lag}'] = df.groupby('Key')['Sales'].shift(lag)\n",
        "    df[f'sales_log_lag_{lag}'] = df.groupby('Key')['Sales_log'].shift(lag)"
      ]
    },
    {
      "cell_type": "code",
      "execution_count": 67,
      "id": "9737565c-b5f1-44f7-a15c-55aea445387e",
      "metadata": {
        "colab": {
          "base_uri": "https://localhost:8080/"
        },
        "id": "9737565c-b5f1-44f7-a15c-55aea445387e",
        "outputId": "e2b3292b-d361-4ffe-be38-685603aa37d9"
      },
      "outputs": [
        {
          "output_type": "stream",
          "name": "stdout",
          "text": [
            "Creating rolling features with window sizes: [4, 8, 12, 26]\n"
          ]
        }
      ],
      "source": [
        "# Create rolling statistics\n",
        "window_sizes = [4, 8, 12, 26]  # Different window sizes\n",
        "print(f\"Creating rolling features with window sizes: {window_sizes}\")\n",
        "\n",
        "for window in window_sizes:\n",
        "    # Mean\n",
        "    df[f'sales_rolling_mean_{window}'] = df.groupby('Key')['Sales'].transform(\n",
        "        lambda x: x.rolling(window, min_periods=1).mean())\n",
        "\n",
        "    # Standard deviation to capture volatility\n",
        "    df[f'sales_rolling_std_{window}'] = df.groupby('Key')['Sales'].transform(\n",
        "        lambda x: x.rolling(window, min_periods=1).std())\n",
        "\n",
        "    # Min and Max to capture range\n",
        "    df[f'sales_rolling_min_{window}'] = df.groupby('Key')['Sales'].transform(\n",
        "        lambda x: x.rolling(window, min_periods=1).min())\n",
        "    df[f'sales_rolling_max_{window}'] = df.groupby('Key')['Sales'].transform(\n",
        "        lambda x: x.rolling(window, min_periods=1).max())\n",
        "\n",
        "    # Expanding mean to capture long-term trend\n",
        "    df[f'sales_expanding_mean_{window}'] = df.groupby('Key')['Sales'].transform(\n",
        "        lambda x: x.expanding(min_periods=1).mean())"
      ]
    },
    {
      "cell_type": "code",
      "source": [
        "# Calculate difference features to capture trends\n",
        "df['sales_diff_1'] = df.groupby('Key')['Sales'].diff(1)\n",
        "df['sales_diff_4'] = df.groupby('Key')['Sales'].diff(4)\n",
        "df['sales_diff_52'] = df.groupby('Key')['Sales'].diff(52)  # YOY difference\n",
        "\n",
        "# Calculate percentage change\n",
        "df['sales_pct_change_1'] = df.groupby('Key')['Sales'].pct_change(1)\n",
        "df['sales_pct_change_4'] = df.groupby('Key')['Sales'].pct_change(4)\n",
        "df['sales_pct_change_52'] = df.groupby('Key')['Sales'].pct_change(52)"
      ],
      "metadata": {
        "id": "8CsCS4rWYcCG"
      },
      "id": "8CsCS4rWYcCG",
      "execution_count": 68,
      "outputs": []
    },
    {
      "cell_type": "code",
      "source": [
        "# Create interaction features between promo variables and time\n",
        "df['promo_month'] = df['PromoStatus'] * df['month']\n",
        "df['discount_month'] = df['DiscountedPrice'] * df['month']\n",
        "df['discount_week'] = df['DiscountedPrice'] * df['week_of_year']"
      ],
      "metadata": {
        "id": "iIAr0SFaYb43"
      },
      "id": "iIAr0SFaYb43",
      "execution_count": 69,
      "outputs": []
    },
    {
      "cell_type": "code",
      "execution_count": null,
      "id": "7cd59d6d-0c6e-4ce6-bd16-112538ff81c8",
      "metadata": {
        "id": "7cd59d6d-0c6e-4ce6-bd16-112538ff81c8"
      },
      "outputs": [],
      "source": [
        "# # Encode categorical features\n",
        "# cat_cols = ['Material', 'Customer', 'CustomerGroup', 'Category', 'PromoMethod', 'PromoStatus']\n",
        "\n",
        "# for col in cat_cols:\n",
        "#     le = LabelEncoder()\n",
        "#     df[col] = le.fit_transform(df[col])"
      ]
    },
    {
      "cell_type": "code",
      "source": [
        "# Target encode high-cardinality variables\n",
        "high_cardinality_cols = ['Material', 'Customer', 'CustomerGroup', 'Category']\n",
        "for col in high_cardinality_cols:\n",
        "    # Only use training data for encoding to prevent data leakage\n",
        "    cutoff_date = pd.to_datetime('2022-11-14')  # Week 45 of 2022\n",
        "    train_mask = df['Date'] < cutoff_date\n",
        "\n",
        "    # Create mapping from train data\n",
        "    train_data = df[train_mask]\n",
        "    encoding_map = train_data.groupby(col)['Sales'].mean()\n",
        "\n",
        "    # Apply encoding to all data\n",
        "    df[f'{col}_target_encoded'] = df[col].map(encoding_map)\n",
        "\n",
        "    # Fill missing values with global mean (for new categories in test set)\n",
        "    global_mean = train_data['Sales'].mean()\n",
        "    df[f'{col}_target_encoded'].fillna(global_mean, inplace=True)"
      ],
      "metadata": {
        "id": "Ota77rckZm3i"
      },
      "id": "Ota77rckZm3i",
      "execution_count": 71,
      "outputs": []
    },
    {
      "cell_type": "markdown",
      "source": [
        "### Train Test Spliting"
      ],
      "metadata": {
        "id": "RTEEcr-_Z8PZ"
      },
      "id": "RTEEcr-_Z8PZ"
    },
    {
      "cell_type": "code",
      "execution_count": 156,
      "id": "6f8f7d01-aa84-485e-835e-92d7e4b7665f",
      "metadata": {
        "colab": {
          "base_uri": "https://localhost:8080/"
        },
        "id": "6f8f7d01-aa84-485e-835e-92d7e4b7665f",
        "outputId": "e0b6439b-8c2d-47f5-e79d-686abdffd21d"
      },
      "outputs": [
        {
          "output_type": "stream",
          "name": "stdout",
          "text": [
            "\n",
            "Splitting data for model training...\n",
            "Train set: (133573, 89)\n",
            "Test set: (8730, 89)\n"
          ]
        }
      ],
      "source": [
        "# Split data into train/validation/test\n",
        "print(\"\\nSplitting data for model training...\")\n",
        "# Make sure the date column exists\n",
        "# if 'Date' in df.columns:\n",
        "#     cutoff_date = pd.to_datetime('2022-11-14')  # 2022-45 is week 45\n",
        "#     train_mask = df['Date'] < cutoff_date\n",
        "#     test_mask = (df['Date'] >= cutoff_date) & (df['YearWeek'] <= '2023-02')\n",
        "# else:\n",
        "#     # Alternative approach using YearWeek directly\n",
        "#     print(\"Using YearWeek for splitting instead of Date\")\n",
        "train_mask = df['YearWeek'] < '2022-46'\n",
        "test_mask = (df['YearWeek'] >= '2022-46') & (df['YearWeek'] <= '2023-02')\n",
        "\n",
        "train_df = df[train_mask].copy()\n",
        "test_df = df[test_mask].copy()\n",
        "\n",
        "train_df = train_df.sort_values(['Key', 'YearWeek'])\n",
        "test_df = test_df.sort_values(['Key', 'YearWeek'])\n",
        "\n",
        "print(f\"Train set: {train_df.shape}\")\n",
        "print(f\"Test set: {test_df.shape}\")"
      ]
    },
    {
      "cell_type": "code",
      "source": [
        "train_keys = set(train_df['Key'].unique())\n",
        "test_keys = set(test_df['Key'].unique())\n",
        "missing_keys = test_keys - train_keys\n",
        "\n",
        "if missing_keys:\n",
        "    print(f\"WARNING: {len(missing_keys)} keys in test set not found in training data!\")"
      ],
      "metadata": {
        "colab": {
          "base_uri": "https://localhost:8080/"
        },
        "id": "CXyuBlJGaFwe",
        "outputId": "186cca6c-2cf5-4f93-bb91-7251b64d8819"
      },
      "id": "CXyuBlJGaFwe",
      "execution_count": 174,
      "outputs": [
        {
          "output_type": "stream",
          "name": "stdout",
          "text": [
            "WARNING: 186 keys in test set not found in training data!\n"
          ]
        }
      ]
    },
    {
      "cell_type": "markdown",
      "source": [
        "### Prepare features and target"
      ],
      "metadata": {
        "id": "7X6S1ybraYws"
      },
      "id": "7X6S1ybraYws"
    },
    {
      "cell_type": "code",
      "execution_count": 175,
      "id": "fceb21f0-4ca9-4e96-889a-ef60e11a16a6",
      "metadata": {
        "colab": {
          "base_uri": "https://localhost:8080/"
        },
        "collapsed": true,
        "id": "fceb21f0-4ca9-4e96-889a-ef60e11a16a6",
        "outputId": "7782d830-fbde-4de0-e2c7-ff25a1427658"
      },
      "outputs": [
        {
          "output_type": "execute_result",
          "data": {
            "text/plain": [
              "['Material',\n",
              " 'Customer',\n",
              " 'CustomerGroup',\n",
              " 'Category',\n",
              " 'Week',\n",
              " 'Month',\n",
              " 'Qtr',\n",
              " 'New_Year',\n",
              " 'Christmas_Day',\n",
              " 'Easter_Monday',\n",
              " 'Other_Holidays',\n",
              " 'DiscountedPrice',\n",
              " 'PromoShipment',\n",
              " 'Objective1',\n",
              " 'Objective2',\n",
              " 'PromoMethod',\n",
              " 'PromoStatus',\n",
              " 'year',\n",
              " 'month',\n",
              " 'week_of_year',\n",
              " 'day_of_week',\n",
              " 'day_of_month',\n",
              " 'day_of_year',\n",
              " 'week_of_year_sin',\n",
              " 'week_of_year_cos',\n",
              " 'month_sin',\n",
              " 'month_cos',\n",
              " 'day_of_week_sin',\n",
              " 'day_of_week_cos',\n",
              " 'day_of_month_sin',\n",
              " 'day_of_month_cos',\n",
              " 'day_of_year_sin',\n",
              " 'day_of_year_cos',\n",
              " 'sales_lag_1',\n",
              " 'sales_log_lag_1',\n",
              " 'sales_lag_2',\n",
              " 'sales_log_lag_2',\n",
              " 'sales_lag_3',\n",
              " 'sales_log_lag_3',\n",
              " 'sales_lag_4',\n",
              " 'sales_log_lag_4',\n",
              " 'sales_lag_8',\n",
              " 'sales_log_lag_8',\n",
              " 'sales_lag_12',\n",
              " 'sales_log_lag_12',\n",
              " 'sales_lag_16',\n",
              " 'sales_log_lag_16',\n",
              " 'sales_lag_26',\n",
              " 'sales_log_lag_26',\n",
              " 'sales_lag_52',\n",
              " 'sales_log_lag_52',\n",
              " 'sales_rolling_mean_4',\n",
              " 'sales_rolling_std_4',\n",
              " 'sales_rolling_min_4',\n",
              " 'sales_rolling_max_4',\n",
              " 'sales_expanding_mean_4',\n",
              " 'sales_rolling_mean_8',\n",
              " 'sales_rolling_std_8',\n",
              " 'sales_rolling_min_8',\n",
              " 'sales_rolling_max_8',\n",
              " 'sales_expanding_mean_8',\n",
              " 'sales_rolling_mean_12',\n",
              " 'sales_rolling_std_12',\n",
              " 'sales_rolling_min_12',\n",
              " 'sales_rolling_max_12',\n",
              " 'sales_expanding_mean_12',\n",
              " 'sales_rolling_mean_26',\n",
              " 'sales_rolling_std_26',\n",
              " 'sales_rolling_min_26',\n",
              " 'sales_rolling_max_26',\n",
              " 'sales_expanding_mean_26',\n",
              " 'sales_diff_1',\n",
              " 'sales_diff_4',\n",
              " 'sales_diff_52',\n",
              " 'sales_pct_change_1',\n",
              " 'sales_pct_change_4',\n",
              " 'sales_pct_change_52',\n",
              " 'promo_month',\n",
              " 'discount_month',\n",
              " 'discount_week',\n",
              " 'Material_target_encoded',\n",
              " 'Customer_target_encoded',\n",
              " 'CustomerGroup_target_encoded',\n",
              " 'Category_target_encoded']"
            ]
          },
          "metadata": {},
          "execution_count": 175
        }
      ],
      "source": [
        "# Drop features that would cause data leakage\n",
        "exclude_cols = ['Sales', 'Sales_log', 'YearWeek', 'Date', 'Key']\n",
        "features = [col for col in df.columns if col not in exclude_cols]\n",
        "features"
      ]
    },
    {
      "cell_type": "code",
      "source": [
        "# Check for missing values\n",
        "for df_subset in [train_df, test_df]:\n",
        "    missing_values = df_subset[features].isnull().sum()\n",
        "    cols_with_missing = missing_values[missing_values > 0]\n",
        "    if len(cols_with_missing) > 0:\n",
        "        print(f\"\\nColumns with missing values:\")\n",
        "        print(cols_with_missing)\n",
        "\n",
        "        # Fill NAs with appropriate values\n",
        "        for col in cols_with_missing.index:\n",
        "            if 'lag' in col or 'rolling' in col or 'diff' in col or 'pct_change' in col:\n",
        "                # For time-based features, use forward fill then backward fill\n",
        "                df_subset[col].fillna(method='ffill', inplace=True)\n",
        "                df_subset[col].fillna(method='bfill', inplace=True)\n",
        "                # If still NA, use 0\n",
        "                df_subset[col].fillna(0, inplace=True)\n",
        "            else:\n",
        "                # For other features, use median\n",
        "                df_subset[col].fillna(df_subset[col].median(), inplace=True)"
      ],
      "metadata": {
        "colab": {
          "base_uri": "https://localhost:8080/"
        },
        "id": "zRKJlvMLajER",
        "outputId": "cce3460c-cb52-4d9a-b178-32ef3e94f1b0"
      },
      "id": "zRKJlvMLajER",
      "execution_count": 176,
      "outputs": [
        {
          "output_type": "stream",
          "name": "stdout",
          "text": [
            "\n",
            "Columns with missing values:\n",
            "sales_lag_1               784\n",
            "sales_log_lag_1           784\n",
            "sales_lag_2              1568\n",
            "sales_log_lag_2          1568\n",
            "sales_lag_3              2352\n",
            "sales_log_lag_3          2352\n",
            "sales_lag_4              3136\n",
            "sales_log_lag_4          3136\n",
            "sales_lag_8              6272\n",
            "sales_log_lag_8          6272\n",
            "sales_lag_12             9408\n",
            "sales_log_lag_12         9408\n",
            "sales_lag_16            12544\n",
            "sales_log_lag_16        12544\n",
            "sales_lag_26            20384\n",
            "sales_log_lag_26        20384\n",
            "sales_lag_52            40768\n",
            "sales_log_lag_52        40768\n",
            "sales_rolling_std_4       784\n",
            "sales_rolling_std_8       784\n",
            "sales_rolling_std_12      784\n",
            "sales_rolling_std_26      784\n",
            "sales_diff_1              784\n",
            "sales_diff_4             3136\n",
            "sales_diff_52           40768\n",
            "sales_pct_change_1      47968\n",
            "sales_pct_change_4      47442\n",
            "sales_pct_change_52     67109\n",
            "dtype: int64\n",
            "\n",
            "Columns with missing values:\n",
            "sales_lag_1               186\n",
            "sales_log_lag_1           186\n",
            "sales_lag_2               372\n",
            "sales_log_lag_2           372\n",
            "sales_lag_3               558\n",
            "sales_log_lag_3           558\n",
            "sales_lag_4               744\n",
            "sales_log_lag_4           744\n",
            "sales_lag_8              1488\n",
            "sales_log_lag_8          1488\n",
            "sales_lag_12             2232\n",
            "sales_log_lag_12         2232\n",
            "sales_lag_16             2976\n",
            "sales_log_lag_16         2976\n",
            "sales_lag_26             4836\n",
            "sales_log_lag_26         4836\n",
            "sales_lag_52             9672\n",
            "sales_log_lag_52         9672\n",
            "sales_rolling_std_4       186\n",
            "sales_rolling_std_8       186\n",
            "sales_rolling_std_12      186\n",
            "sales_rolling_std_26      186\n",
            "sales_diff_1              186\n",
            "sales_diff_4              744\n",
            "sales_diff_52            9672\n",
            "sales_pct_change_1      10878\n",
            "sales_pct_change_4      10782\n",
            "sales_pct_change_52     15663\n",
            "dtype: int64\n"
          ]
        }
      ]
    },
    {
      "cell_type": "code",
      "source": [
        "# Check for infinite values\n",
        "inf_mask = np.isinf(train_df[features]).any(axis=1)\n",
        "if inf_mask.any():\n",
        "    print(f\"Found {inf_mask.sum()} rows with infinite values. Replacing with NaN and then filling.\")\n",
        "    train_df[features] = train_df[features].replace([np.inf, -np.inf], np.nan)\n",
        "    train_df[features].fillna(0, inplace=True)\n",
        "\n",
        "inf_mask = np.isinf(test_df[features]).any(axis=1)\n",
        "if inf_mask.any():\n",
        "    print(f\"Found {inf_mask.sum()} rows with infinite values in test set. Replacing.\")\n",
        "    test_df[features] = test_df[features].replace([np.inf, -np.inf], np.nan)\n",
        "    test_df[features].fillna(0, inplace=True)"
      ],
      "metadata": {
        "colab": {
          "base_uri": "https://localhost:8080/"
        },
        "id": "bJJp7CRVatqq",
        "outputId": "30844402-39a0-4990-b22d-3c10cffd3faa"
      },
      "id": "bJJp7CRVatqq",
      "execution_count": 177,
      "outputs": [
        {
          "output_type": "stream",
          "name": "stdout",
          "text": [
            "Found 47470 rows with infinite values. Replacing with NaN and then filling.\n",
            "Found 12211 rows with infinite values in test set. Replacing.\n"
          ]
        }
      ]
    },
    {
      "cell_type": "code",
      "source": [
        "# Get feature sets\n",
        "X_train = train_df[features]\n",
        "y_train = train_df['Sales']\n",
        "X_test = test_df[features]\n",
        "y_test = test_df['Sales']\n",
        "\n",
        "# Check for highly correlated features in training set\n",
        "X_train_reduced, dropped_features = remove_collinear_features(X_train, threshold=0.95)\n",
        "\n",
        "# Remove the same features from test set\n",
        "X_test_reduced = X_test.drop(columns=dropped_features)"
      ],
      "metadata": {
        "colab": {
          "base_uri": "https://localhost:8080/"
        },
        "id": "53HnsXhia0Y3",
        "outputId": "b6113607-2122-4b6a-9078-e61ee2419522"
      },
      "id": "53HnsXhia0Y3",
      "execution_count": 178,
      "outputs": [
        {
          "output_type": "stream",
          "name": "stdout",
          "text": [
            "Dropping 21 highly correlated features: ['Month', 'Qtr', 'Objective2', 'PromoStatus', 'week_of_year', 'day_of_year', 'month_sin', 'month_cos', 'day_of_year_sin', 'day_of_year_cos', 'sales_rolling_mean_8', 'sales_rolling_max_8', 'sales_expanding_mean_8', 'sales_rolling_mean_12', 'sales_rolling_max_12', 'sales_expanding_mean_12', 'sales_rolling_mean_26', 'sales_rolling_max_26', 'sales_expanding_mean_26', 'discount_month', 'discount_week']\n"
          ]
        }
      ]
    },
    {
      "cell_type": "markdown",
      "id": "249e014f-c96c-440b-8e34-d05c541e691f",
      "metadata": {
        "id": "249e014f-c96c-440b-8e34-d05c541e691f"
      },
      "source": [
        "##  Model Training"
      ]
    },
    {
      "cell_type": "code",
      "execution_count": 179,
      "id": "9d34af0c-1f80-4a03-8340-bb946fdf2b06",
      "metadata": {
        "id": "9d34af0c-1f80-4a03-8340-bb946fdf2b06"
      },
      "outputs": [],
      "source": [
        "# # Baseline model\n",
        "# # LightGBM with MAE optimization\n",
        "# params = {\n",
        "#     'objective': 'regression_l1',\n",
        "#     'learning_rate': 0.05,\n",
        "#     'num_leaves': 31,\n",
        "#     'n_estimators': 200,\n",
        "#     'random_state': 42\n",
        "# }\n",
        "\n",
        "# model = lgb.LGBMRegressor(**params)\n",
        "# model.fit(X_train, y_train)"
      ]
    },
    {
      "cell_type": "code",
      "source": [
        "print(\"\\nTraining LightGBM model...\")\n",
        "\n",
        "# Define time-based cross-validation strategy\n",
        "tscv = TimeSeriesSplit(n_splits=5)\n",
        "\n",
        "# Define parameter grid for hyperparameter tuning\n",
        "param_grid = {\n",
        "    'objective': ['regression_l1'],  # L1 loss is more robust to outliers\n",
        "    'boosting_type': ['gbdt', 'dart'],\n",
        "    'num_leaves': [31, 63, 127],\n",
        "    'learning_rate': [0.01, 0.05, 0.1],\n",
        "    'n_estimators': [100, 200, 300],\n",
        "    'subsample': [0.8, 0.9, 1.0],\n",
        "    'colsample_bytree': [0.8, 0.9, 1.0],\n",
        "    'reg_alpha': [0, 0.1, 0.5],\n",
        "    'reg_lambda': [0, 0.1, 0.5],\n",
        "    'min_child_samples': [5, 10, 20]\n",
        "}\n",
        "\n",
        "# Initialize LightGBM model\n",
        "lgbm = lgb.LGBMRegressor(random_state=42)"
      ],
      "metadata": {
        "colab": {
          "base_uri": "https://localhost:8080/"
        },
        "id": "obzcraZWbEI3",
        "outputId": "7cc25a9e-f991-4def-91ed-c260079108e9"
      },
      "id": "obzcraZWbEI3",
      "execution_count": 180,
      "outputs": [
        {
          "output_type": "stream",
          "name": "stdout",
          "text": [
            "\n",
            "Training LightGBM model...\n"
          ]
        }
      ]
    },
    {
      "cell_type": "code",
      "source": [
        "# Perform randomized search CV with time series splits\n",
        "print(\"Optimizing hyperparameters...\")\n",
        "cv = RandomizedSearchCV(\n",
        "    estimator=lgbm,\n",
        "    param_distributions=param_grid,\n",
        "    n_iter=10,\n",
        "    scoring='neg_mean_absolute_error',\n",
        "    cv=tscv,\n",
        "    random_state=42,\n",
        "    n_jobs=-1\n",
        ")\n",
        "\n",
        "# Fit the model\n",
        "cv.fit(X_train_reduced, y_train)\n",
        "\n",
        "# Get best parameters\n",
        "print(\"\\nBest parameters:\")\n",
        "print(cv.best_params_)"
      ],
      "metadata": {
        "colab": {
          "base_uri": "https://localhost:8080/"
        },
        "id": "k8mdsJaKbTja",
        "outputId": "e8767732-8e46-417b-bb70-e72ed27b96ee"
      },
      "id": "k8mdsJaKbTja",
      "execution_count": 181,
      "outputs": [
        {
          "output_type": "stream",
          "name": "stdout",
          "text": [
            "Optimizing hyperparameters...\n",
            "[LightGBM] [Info] Auto-choosing row-wise multi-threading, the overhead of testing was 0.027526 seconds.\n",
            "You can set `force_row_wise=true` to remove the overhead.\n",
            "And if memory is not enough, you can set `force_col_wise=true`.\n",
            "[LightGBM] [Info] Total Bins 9604\n",
            "[LightGBM] [Info] Number of data points in the train set: 114618, number of used features: 58\n",
            "[LightGBM] [Warning] No further splits with positive gain, best gain: -inf\n",
            "\n",
            "Best parameters:\n",
            "{'subsample': 0.9, 'reg_lambda': 0, 'reg_alpha': 0, 'objective': 'regression_l1', 'num_leaves': 63, 'n_estimators': 300, 'min_child_samples': 10, 'learning_rate': 0.1, 'colsample_bytree': 1.0, 'boosting_type': 'gbdt'}\n"
          ]
        }
      ]
    },
    {
      "cell_type": "code",
      "source": [
        "# Train final model with best parameters\n",
        "final_model = lgb.LGBMRegressor(**cv.best_params_, random_state=42)"
      ],
      "metadata": {
        "id": "FKfqWv3fjPtC"
      },
      "id": "FKfqWv3fjPtC",
      "execution_count": 182,
      "outputs": []
    },
    {
      "cell_type": "code",
      "source": [
        "# Create validation set for early stopping\n",
        "# Since we're dealing with time series data, use the last portion as validation\n",
        "print(\"Creating validation set for early stopping...\")\n",
        "\n",
        "# Simple approach: use the last 10% of the training data as validation\n",
        "val_size = int(X_train_reduced.shape[0] * 0.1)\n",
        "X_train_inner = X_train_reduced.iloc[:-val_size]\n",
        "y_train_inner = y_train.iloc[:-val_size]\n",
        "X_val = X_train_reduced.iloc[-val_size:]\n",
        "y_val = y_train.iloc[-val_size:]\n",
        "\n",
        "print(f\"Training set size: {X_train_inner.shape[0]}, Validation set size: {X_val.shape[0]}\")"
      ],
      "metadata": {
        "colab": {
          "base_uri": "https://localhost:8080/"
        },
        "id": "HfUKimPFjSZw",
        "outputId": "f4579765-4e9f-438c-8cf4-fcf1b0341c81"
      },
      "id": "HfUKimPFjSZw",
      "execution_count": 183,
      "outputs": [
        {
          "output_type": "stream",
          "name": "stdout",
          "text": [
            "Creating validation set for early stopping...\n",
            "Training set size: 103157, Validation set size: 11461\n"
          ]
        }
      ]
    },
    {
      "cell_type": "code",
      "source": [
        "# Fit the model - try with early stopping if available, otherwise fall back to standard fit\n",
        "print(\"Training final model...\")\n",
        "try:\n",
        "    # Try modern LightGBM API with callbacks\n",
        "    final_model.fit(\n",
        "        X_train_inner,\n",
        "        y_train_inner,\n",
        "        eval_set=[(X_val, y_val)],\n",
        "        eval_metric='mae',\n",
        "        callbacks=[\n",
        "            lgb.early_stopping(stopping_rounds=50, verbose=False),\n",
        "            lgb.log_evaluation(period=0)  # Suppress evaluation logging\n",
        "        ]\n",
        "    )\n",
        "    print(\"Model trained with early stopping\")\n",
        "except (TypeError, AttributeError) as e:\n",
        "    print(f\"Warning: {e}\")\n",
        "    print(\"Falling back to standard fit method\")\n",
        "    # Fall back to an older/simpler API\n",
        "    try:\n",
        "        # Try with early_stopping_rounds as parameter (older API)\n",
        "        final_model.fit(\n",
        "            X_train_inner,\n",
        "            y_train_inner,\n",
        "            eval_set=[(X_val, y_val)],\n",
        "            eval_metric='mae',\n",
        "            early_stopping_rounds=50,\n",
        "            verbose=False\n",
        "        )\n",
        "        print(\"Model trained with early_stopping_rounds parameter\")\n",
        "    except TypeError:\n",
        "        # If that also fails, use basic fit without early stopping\n",
        "        final_model.fit(X_train_reduced, y_train)\n",
        "        print(\"Model trained with basic fit (no early stopping)\")"
      ],
      "metadata": {
        "colab": {
          "base_uri": "https://localhost:8080/"
        },
        "id": "aKK3gz1obZIT",
        "outputId": "3d25103b-006a-4e9b-a7ec-37ed96315c49"
      },
      "id": "aKK3gz1obZIT",
      "execution_count": 184,
      "outputs": [
        {
          "output_type": "stream",
          "name": "stdout",
          "text": [
            "Training final model...\n",
            "[LightGBM] [Info] Auto-choosing row-wise multi-threading, the overhead of testing was 0.024328 seconds.\n",
            "You can set `force_row_wise=true` to remove the overhead.\n",
            "And if memory is not enough, you can set `force_col_wise=true`.\n",
            "[LightGBM] [Info] Total Bins 9553\n",
            "[LightGBM] [Info] Number of data points in the train set: 103157, number of used features: 58\n",
            "[LightGBM] [Warning] No further splits with positive gain, best gain: -inf\n",
            "Model trained with early stopping\n"
          ]
        }
      ]
    },
    {
      "cell_type": "markdown",
      "id": "6576f274-de2f-4c9d-a8ef-1eefda8bed8e",
      "metadata": {
        "id": "6576f274-de2f-4c9d-a8ef-1eefda8bed8e"
      },
      "source": [
        "## Prediction & Evaluation"
      ]
    },
    {
      "cell_type": "code",
      "source": [
        "print(\"\\nMaking predictions...\")\n",
        "y_pred = final_model.predict(X_test_reduced)"
      ],
      "metadata": {
        "colab": {
          "base_uri": "https://localhost:8080/"
        },
        "id": "IMgcibdtbfk0",
        "outputId": "cdc2093e-541b-4287-eb4f-44ec5bcd923b"
      },
      "id": "IMgcibdtbfk0",
      "execution_count": 185,
      "outputs": [
        {
          "output_type": "stream",
          "name": "stdout",
          "text": [
            "\n",
            "Making predictions...\n"
          ]
        }
      ]
    },
    {
      "cell_type": "code",
      "source": [
        "test_df['Predicted_Sales'] = y_pred\n",
        "predictions_output = test_df[['Key', 'YearWeek', 'Predicted_Sales']]\n",
        "predictions_output.to_csv('sales_predictions.csv', index=False)\n",
        "\n",
        "print(f\"\\nPredictions saved to 'sales_predictions.csv'\")\n",
        "print(f\"Sample of predictions:\")\n",
        "print(predictions_output.head(10))"
      ],
      "metadata": {
        "id": "G_Waupgd57nZ",
        "outputId": "e7190627-f54f-4532-95c9-e66da6968811",
        "colab": {
          "base_uri": "https://localhost:8080/"
        }
      },
      "id": "G_Waupgd57nZ",
      "execution_count": 186,
      "outputs": [
        {
          "output_type": "stream",
          "name": "stdout",
          "text": [
            "\n",
            "Predictions saved to 'sales_predictions.csv'\n",
            "Sample of predictions:\n",
            "        Key YearWeek  Predicted_Sales\n",
            "38625  67_1  2022-13        -1.181950\n",
            "38626  67_1  2022-14       560.096569\n",
            "38627  67_1  2022-15         0.000000\n",
            "38628  67_1  2022-16         0.000000\n",
            "38629  67_1  2022-17       559.983473\n",
            "38630  67_1  2022-18         0.000000\n",
            "38631  67_1  2022-19         0.000000\n",
            "38632  67_1  2022-20         0.000000\n",
            "38633  67_1  2022-21         0.000000\n",
            "38634  67_1  2022-22         0.000000\n"
          ]
        }
      ]
    },
    {
      "cell_type": "code",
      "source": [
        "# Evaluate performance\n",
        "wmape = calculate_wmape(y_test, y_pred)\n",
        "bias = calculate_bias(y_test, y_pred)\n",
        "mae = mean_absolute_error(y_test, y_pred)\n",
        "\n",
        "print(f\"Evaluation metrics:\")\n",
        "print(f\"WMAPE: {wmape:.4f}\")\n",
        "print(f\"Bias: {bias:.4f}\")\n",
        "print(f\"MAE: {mae:.4f}\")"
      ],
      "metadata": {
        "colab": {
          "base_uri": "https://localhost:8080/"
        },
        "id": "83L8dqkPblcq",
        "outputId": "2e057aa3-2071-455a-b530-8cf26f7b84f0"
      },
      "id": "83L8dqkPblcq",
      "execution_count": 187,
      "outputs": [
        {
          "output_type": "stream",
          "name": "stdout",
          "text": [
            "Evaluation metrics:\n",
            "WMAPE: 0.9588\n",
            "Bias: -0.0009\n",
            "MAE: 10.8411\n"
          ]
        }
      ]
    },
    {
      "cell_type": "markdown",
      "source": [
        "### In case this is a true forecasting scenario, prediction output from here"
      ],
      "metadata": {
        "id": "Kp-mNRYF6MdQ"
      },
      "id": "Kp-mNRYF6MdQ"
    },
    {
      "cell_type": "code",
      "source": [
        "y_pred = np.maximum(y_pred, 0)\n",
        "\n",
        "print(\"\\nTest set contains zeros as placeholders for future sales\")\n",
        "print(f\"Number of predictions: {len(y_pred)}\")\n",
        "print(f\"Mean prediction: {np.mean(y_pred):.2f}\")\n",
        "print(f\"Min prediction: {np.min(y_pred):.2f}\")\n",
        "print(f\"Max prediction: {np.max(y_pred):.2f}\")\n",
        "print(f\"Sum of all predictions: {np.sum(y_pred):.2f}\")"
      ],
      "metadata": {
        "id": "WnwmBjLV6Ksc",
        "outputId": "aba79318-1fbe-4a2f-e986-08561d358fd6",
        "colab": {
          "base_uri": "https://localhost:8080/"
        }
      },
      "id": "WnwmBjLV6Ksc",
      "execution_count": 188,
      "outputs": [
        {
          "output_type": "stream",
          "name": "stdout",
          "text": [
            "\n",
            "Test set contains zeros as placeholders for future sales\n",
            "Number of predictions: 28655\n",
            "Mean prediction: 263.21\n",
            "Min prediction: 0.00\n",
            "Max prediction: 16347.97\n",
            "Sum of all predictions: 7542384.23\n"
          ]
        }
      ]
    },
    {
      "cell_type": "markdown",
      "id": "368fa79f-3131-4456-8f68-6a4549607900",
      "metadata": {
        "id": "368fa79f-3131-4456-8f68-6a4549607900"
      },
      "source": [
        "### Feature Importance"
      ]
    },
    {
      "cell_type": "code",
      "source": [
        "feature_importance = pd.DataFrame({\n",
        "    'Feature': X_train_reduced.columns,\n",
        "    'Importance': final_model.feature_importances_\n",
        "})\n",
        "feature_importance = feature_importance.sort_values('Importance', ascending=False)\n",
        "print(\"\\nTop 10 important features:\")\n",
        "print(feature_importance.head(10))"
      ],
      "metadata": {
        "colab": {
          "base_uri": "https://localhost:8080/"
        },
        "id": "unFh36YsbtgL",
        "outputId": "2c7c323f-59b1-41b4-d699-b8f856dae53d"
      },
      "id": "unFh36YsbtgL",
      "execution_count": 190,
      "outputs": [
        {
          "output_type": "stream",
          "name": "stdout",
          "text": [
            "\n",
            "Top 10 important features:\n",
            "                 Feature  Importance\n",
            "53          sales_diff_4        2383\n",
            "52          sales_diff_1        1875\n",
            "29           sales_lag_4        1349\n",
            "41  sales_rolling_mean_4        1295\n",
            "44   sales_rolling_max_4        1239\n",
            "23           sales_lag_1        1140\n",
            "56    sales_pct_change_4        1102\n",
            "55    sales_pct_change_1        1023\n",
            "43   sales_rolling_min_4         965\n",
            "42   sales_rolling_std_4         742\n"
          ]
        }
      ]
    },
    {
      "cell_type": "code",
      "source": [
        "# Visualize feature importance\n",
        "plt.figure(figsize=(12, 8))\n",
        "sns.barplot(x='Importance', y='Feature', data=feature_importance.head(20))\n",
        "plt.title('Top 20 Feature Importance')\n",
        "plt.tight_layout()\n",
        "plt.show()\n",
        "plt.savefig('feature_importance.png')\n",
        "plt.close()"
      ],
      "metadata": {
        "colab": {
          "base_uri": "https://localhost:8080/",
          "height": 807
        },
        "id": "Dtgg7_B7bw5n",
        "outputId": "2f948dc0-6b8b-4e07-aea7-a9f8b078a03a"
      },
      "id": "Dtgg7_B7bw5n",
      "execution_count": 191,
      "outputs": [
        {
          "output_type": "display_data",
          "data": {
            "text/plain": [
              "<Figure size 1200x800 with 1 Axes>"
            ],
            "image/png": "[encoded data removed]"
          },
          "metadata": {}
        }
      ]
    },
    {
      "cell_type": "code",
      "source": [
        "# Error Analysis\n",
        "test_df['prediction'] = y_pred\n",
        "test_df['error'] = test_df['Sales'] - test_df['prediction']\n",
        "test_df['abs_error'] = np.abs(test_df['error'])"
      ],
      "metadata": {
        "id": "xv87gpeqb0jj"
      },
      "id": "xv87gpeqb0jj",
      "execution_count": 192,
      "outputs": []
    },
    {
      "cell_type": "code",
      "source": [
        "# Error by key\n",
        "key_error = test_df.groupby('Key')['abs_error'].mean().sort_values(ascending=False)\n",
        "print(f\"\\nTop 10 keys with highest average error:\")\n",
        "print(key_error.head(10))"
      ],
      "metadata": {
        "colab": {
          "base_uri": "https://localhost:8080/"
        },
        "id": "1kkx7441b2hy",
        "outputId": "22531678-5313-4a56-c3b8-90ae444e8f97"
      },
      "id": "1kkx7441b2hy",
      "execution_count": 193,
      "outputs": [
        {
          "output_type": "stream",
          "name": "stdout",
          "text": [
            "\n",
            "Top 10 keys with highest average error:\n",
            "Key\n",
            "72_10    325.928980\n",
            "79_10    179.481920\n",
            "72_6     124.892804\n",
            "70_10     97.719255\n",
            "72_26     87.340601\n",
            "73_8      57.452623\n",
            "9_10      50.672490\n",
            "72_15     44.314518\n",
            "74_1      38.867990\n",
            "79_16     37.513115\n",
            "Name: abs_error, dtype: float64\n"
          ]
        }
      ]
    },
    {
      "cell_type": "code",
      "source": [
        "# Error by week\n",
        "week_error = test_df.groupby('YearWeek')['abs_error'].mean().sort_values(ascending=False)\n",
        "print(f\"\\nAverage error by week:\")\n",
        "print(week_error)"
      ],
      "metadata": {
        "colab": {
          "base_uri": "https://localhost:8080/"
        },
        "id": "M9ERHspzb4_e",
        "outputId": "6e845232-e51b-4057-d787-1a82fb993abb"
      },
      "id": "M9ERHspzb4_e",
      "execution_count": 194,
      "outputs": [
        {
          "output_type": "stream",
          "name": "stdout",
          "text": [
            "\n",
            "Average error by week:\n",
            "YearWeek\n",
            "2022-31    4.423265e+01\n",
            "2020-04    3.611054e+01\n",
            "2022-41    3.227010e+01\n",
            "2020-05    2.685093e+01\n",
            "2021-29    2.502879e+01\n",
            "               ...     \n",
            "2022-51    1.488554e-02\n",
            "2022-52    1.425469e-02\n",
            "2022-50    2.072840e-03\n",
            "2023-01    4.261998e-04\n",
            "2023-03    5.744190e-09\n",
            "Name: abs_error, Length: 160, dtype: float64\n"
          ]
        }
      ]
    },
    {
      "cell_type": "markdown",
      "source": [
        "## Output Prediction"
      ],
      "metadata": {
        "id": "C8CnfZ2fb8I1"
      },
      "id": "C8CnfZ2fb8I1"
    },
    {
      "cell_type": "code",
      "source": [
        "# Save predictions to CSV\n",
        "predictions = test_df[['Key', 'YearWeek', 'Sales', 'prediction']]\n",
        "predictions.to_csv('sales_predictions.csv', index=False)\n",
        "\n",
        "print(\"\\nPredictions saved to 'sales_predictions.csv'\")"
      ],
      "metadata": {
        "colab": {
          "base_uri": "https://localhost:8080/"
        },
        "id": "6N5RBNwFb9yZ",
        "outputId": "b8dd35bb-a57d-4c2f-e34a-5b0076a8718a"
      },
      "id": "6N5RBNwFb9yZ",
      "execution_count": 195,
      "outputs": [
        {
          "output_type": "stream",
          "name": "stdout",
          "text": [
            "\n",
            "Predictions saved to 'sales_predictions.csv'\n"
          ]
        }
      ]
    },
    {
      "cell_type": "markdown",
      "source": [
        "## Push changes to Github"
      ],
      "metadata": {
        "id": "I6UMEp5scBZW"
      },
      "id": "I6UMEp5scBZW"
    },
    {
      "cell_type": "code",
      "execution_count": 22,
      "id": "fed3c29b-85ef-4457-abe3-6c83fce4b140",
      "metadata": {
        "colab": {
          "base_uri": "https://localhost:8080/"
        },
        "id": "fed3c29b-85ef-4457-abe3-6c83fce4b140",
        "outputId": "1b8ce1d4-3a05-4fb3-defb-f22f7815c265"
      },
      "outputs": [
        {
          "output_type": "execute_result",
          "data": {
            "text/plain": [
              "['main']"
            ]
          },
          "metadata": {},
          "execution_count": 22
        }
      ],
      "source": [
        "git_manager.list_branches()"
      ]
    },
    {
      "cell_type": "code",
      "source": [
        "git_manager.add_all()"
      ],
      "metadata": {
        "colab": {
          "base_uri": "https://localhost:8080/"
        },
        "id": "BO3hAE_jJAhd",
        "outputId": "064bf0ef-db1f-4ab5-ebaf-8f39635c3642"
      },
      "id": "BO3hAE_jJAhd",
      "execution_count": 12,
      "outputs": [
        {
          "output_type": "stream",
          "name": "stdout",
          "text": [
            "Added all changes to staging area\n"
          ]
        }
      ]
    },
    {
      "cell_type": "code",
      "source": [
        "status = git_manager.status()\n",
        "if \"nothing to commit\" not in status:\n",
        "    git_manager.add_all()\n",
        "    git_manager.commit(\"add git control\")\n",
        "else:\n",
        "    print(\"No changes to commit\")"
      ],
      "metadata": {
        "colab": {
          "base_uri": "https://localhost:8080/"
        },
        "id": "irpjkYk0JJFK",
        "outputId": "b25742a4-015c-46a2-d157-dfd2da2a0a07"
      },
      "id": "irpjkYk0JJFK",
      "execution_count": 27,
      "outputs": [
        {
          "output_type": "stream",
          "name": "stdout",
          "text": [
            "No changes to commit\n"
          ]
        }
      ]
    }
  ],
  "metadata": {
    "kernelspec": {
      "display_name": "Python 3.10",
      "language": "python",
      "name": "python310"
    },
    "language_info": {
      "codemirror_mode": {
        "name": "ipython",
        "version": 3
      },
      "file_extension": ".py",
      "mimetype": "text/x-python",
      "name": "python",
      "nbconvert_exporter": "python",
      "pygments_lexer": "ipython3",
      "version": "3.10.14"
    },
    "colab": {
      "provenance": [],
      "toc_visible": true
    }
  },
  "nbformat": 4,
  "nbformat_minor": 5
}